{
  "nbformat": 4,
  "nbformat_minor": 0,
  "metadata": {
    "colab": {
      "name": "Titanic com vários modelos.ipynb",
      "provenance": [],
      "include_colab_link": true
    },
    "kernelspec": {
      "name": "python3",
      "display_name": "Python 3"
    }
  },
  "cells": [
    {
      "cell_type": "markdown",
      "metadata": {
        "id": "view-in-github",
        "colab_type": "text"
      },
      "source": [
        "<a href=\"https://colab.research.google.com/github/tsilverio/Desafio1_DataScience/blob/master/Titanic_com_v%C3%A1rios_modelos.ipynb\" target=\"_parent\"><img src=\"https://colab.research.google.com/assets/colab-badge.svg\" alt=\"Open In Colab\"/></a>"
      ]
    },
    {
      "cell_type": "markdown",
      "metadata": {
        "id": "7vULH2K4nmzQ",
        "colab_type": "text"
      },
      "source": [
        "##Montando google drive"
      ]
    },
    {
      "cell_type": "code",
      "metadata": {
        "id": "jU03W1biJf6o",
        "colab_type": "code",
        "outputId": "9a014988-fc86-4d03-bf38-ac83dd77eb5d",
        "colab": {
          "base_uri": "https://localhost:8080/",
          "height": 122
        }
      },
      "source": [
        "from google.colab import drive\n",
        "drive.mount('/content/drive')"
      ],
      "execution_count": 1,
      "outputs": [
        {
          "output_type": "stream",
          "text": [
            "Go to this URL in a browser: https://accounts.google.com/o/oauth2/auth?client_id=947318989803-6bn6qk8qdgf4n4g3pfee6491hc0brc4i.apps.googleusercontent.com&redirect_uri=urn%3Aietf%3Awg%3Aoauth%3A2.0%3Aoob&scope=email%20https%3A%2F%2Fwww.googleapis.com%2Fauth%2Fdocs.test%20https%3A%2F%2Fwww.googleapis.com%2Fauth%2Fdrive%20https%3A%2F%2Fwww.googleapis.com%2Fauth%2Fdrive.photos.readonly%20https%3A%2F%2Fwww.googleapis.com%2Fauth%2Fpeopleapi.readonly&response_type=code\n",
            "\n",
            "Enter your authorization code:\n",
            "··········\n",
            "Mounted at /content/drive\n"
          ],
          "name": "stdout"
        }
      ]
    },
    {
      "cell_type": "markdown",
      "metadata": {
        "id": "VCW3OLubnuBg",
        "colab_type": "text"
      },
      "source": [
        "##Importando bibliotecas"
      ]
    },
    {
      "cell_type": "code",
      "metadata": {
        "id": "ewUIwKHbL91s",
        "colab_type": "code",
        "colab": {}
      },
      "source": [
        "import numpy as np\n",
        "import pandas as pd\n",
        "\n",
        "from sklearn.ensemble import ExtraTreesClassifier\n",
        "from sklearn.ensemble import RandomForestClassifier\n",
        "from sklearn.ensemble import RandomForestRegressor\n",
        "from sklearn.linear_model import LogisticRegression\n",
        "\n",
        "from sklearn.model_selection import train_test_split\n",
        "from sklearn.model_selection import KFold\n",
        "\n",
        "from sklearn.metrics import mean_absolute_error\n",
        "\n",
        "np.random.seed(0)"
      ],
      "execution_count": 0,
      "outputs": []
    },
    {
      "cell_type": "markdown",
      "metadata": {
        "id": "yrovR5Pnnx2_",
        "colab_type": "text"
      },
      "source": [
        "##Criando funções para comparar diferentes métodos"
      ]
    },
    {
      "cell_type": "markdown",
      "metadata": {
        "id": "6bYSEWwno7-b",
        "colab_type": "text"
      },
      "source": [
        "###ExtraTreesClassifier"
      ]
    },
    {
      "cell_type": "code",
      "metadata": {
        "id": "oHLq7daln5K0",
        "colab_type": "code",
        "colab": {}
      },
      "source": [
        "def compara_acuracia_ExtraTreesClassifier(max_leaf_nodes, train_X, valid_X, train_y, valid_y):\n",
        "    model = ExtraTreesClassifier(max_leaf_nodes=max_leaf_nodes, random_state=0)\n",
        "    model.fit(train_X, train_y)\n",
        "    predictions = model.predict(valid_X)\n",
        "    mae = mean_absolute_error(valid_y, predictions)\n",
        "    acc = np.mean(valid_y == predictions)    \n",
        "    score = model.score(train_X, train_y)\n",
        "    return(acc)"
      ],
      "execution_count": 0,
      "outputs": []
    },
    {
      "cell_type": "markdown",
      "metadata": {
        "id": "8QKvQCnWo2SJ",
        "colab_type": "text"
      },
      "source": [
        "###RandomForestClassifier usar este"
      ]
    },
    {
      "cell_type": "code",
      "metadata": {
        "id": "nZWFCG3GoV1-",
        "colab_type": "code",
        "colab": {}
      },
      "source": [
        "def compara_acuracia_RandomForestClassifier(max_leaf_nodes, train_X, valid_X, train_y, valid_y):\n",
        "    model = RandomForestClassifier(n_estimators=100, max_depth=max_leaf_nodes, random_state=0)\n",
        "    model.fit(train_X, train_y)\n",
        "    predictions = model.predict(valid_X)\n",
        "    mae = mean_absolute_error(valid_y, predictions).astype(int)\n",
        "    acc = np.mean(valid_y == predictions)\n",
        "    score = model.score(train_X, train_y)\n",
        "    return(acc)"
      ],
      "execution_count": 0,
      "outputs": []
    },
    {
      "cell_type": "markdown",
      "metadata": {
        "id": "XtYYgfnHLjA7",
        "colab_type": "text"
      },
      "source": [
        "###RandomForestRegressor"
      ]
    },
    {
      "cell_type": "code",
      "metadata": {
        "id": "j8m302KRLjmt",
        "colab_type": "code",
        "colab": {}
      },
      "source": [
        "def compara_acuracia_RandomForestRegressor(max_leaf_nodes, train_X, valid_X, train_y, valid_y):\n",
        "    model = RandomForestRegressor(n_estimators=100, max_depth=max_leaf_nodes, random_state=0)\n",
        "    model.fit(train_X, train_y)\n",
        "    predictions = model.predict(valid_X)\n",
        "    mae = mean_absolute_error(valid_y, predictions).astype(int)\n",
        "    acc = np.mean(valid_y == predictions)\n",
        "    score = model.score(train_X, train_y)\n",
        "    return(acc)"
      ],
      "execution_count": 0,
      "outputs": []
    },
    {
      "cell_type": "markdown",
      "metadata": {
        "id": "0pZ_pXhRpEns",
        "colab_type": "text"
      },
      "source": [
        "###LogisticRegression"
      ]
    },
    {
      "cell_type": "code",
      "metadata": {
        "id": "obAFeLNroWqy",
        "colab_type": "code",
        "colab": {}
      },
      "source": [
        "def compara_acuracia_LogisticRegression(max_leaf_nodes, train_X, valid_X, train_y, valid_y):\n",
        "    model = LogisticRegression(max_iter=max_leaf_nodes)\n",
        "    model.fit(train_X, train_y)\n",
        "    predictions = model.predict(valid_X)\n",
        "    mae = mean_absolute_error(valid_y, predictions)\n",
        "    acc = np.mean(valid_y == predictions)\n",
        "    score = model.score(train_X, train_y)\n",
        "    return(acc)"
      ],
      "execution_count": 0,
      "outputs": []
    },
    {
      "cell_type": "markdown",
      "metadata": {
        "id": "6gL1A_BJcS5p",
        "colab_type": "text"
      },
      "source": [
        "## Importando os arquivos"
      ]
    },
    {
      "cell_type": "code",
      "metadata": {
        "id": "Rr5Zq12wSDx5",
        "colab_type": "code",
        "colab": {}
      },
      "source": [
        "train_data = pd.read_csv(\"/content/drive/My Drive/Titanic/train.csv\")\n"
      ],
      "execution_count": 0,
      "outputs": []
    },
    {
      "cell_type": "code",
      "metadata": {
        "id": "T5jkz43nSM1M",
        "colab_type": "code",
        "colab": {}
      },
      "source": [
        "test_data = pd.read_csv(\"/content/drive/My Drive/Titanic/test.csv\")\n"
      ],
      "execution_count": 0,
      "outputs": []
    },
    {
      "cell_type": "markdown",
      "metadata": {
        "id": "mTg_egq8_sWH",
        "colab_type": "text"
      },
      "source": [
        "###Verificando o dataframe"
      ]
    },
    {
      "cell_type": "code",
      "metadata": {
        "id": "Ti73gCzU_wmv",
        "colab_type": "code",
        "colab": {
          "base_uri": "https://localhost:8080/",
          "height": 204
        },
        "outputId": "cd78d7c2-e5eb-4923-ef2b-ba42dfc43fd6"
      },
      "source": [
        "train_data.head()"
      ],
      "execution_count": 45,
      "outputs": [
        {
          "output_type": "execute_result",
          "data": {
            "text/html": [
              "<div>\n",
              "<style scoped>\n",
              "    .dataframe tbody tr th:only-of-type {\n",
              "        vertical-align: middle;\n",
              "    }\n",
              "\n",
              "    .dataframe tbody tr th {\n",
              "        vertical-align: top;\n",
              "    }\n",
              "\n",
              "    .dataframe thead th {\n",
              "        text-align: right;\n",
              "    }\n",
              "</style>\n",
              "<table border=\"1\" class=\"dataframe\">\n",
              "  <thead>\n",
              "    <tr style=\"text-align: right;\">\n",
              "      <th></th>\n",
              "      <th>PassengerId</th>\n",
              "      <th>Survived</th>\n",
              "      <th>Pclass</th>\n",
              "      <th>Name</th>\n",
              "      <th>Sex</th>\n",
              "      <th>Age</th>\n",
              "      <th>SibSp</th>\n",
              "      <th>Parch</th>\n",
              "      <th>Ticket</th>\n",
              "      <th>Fare</th>\n",
              "      <th>Cabin</th>\n",
              "      <th>Embarked</th>\n",
              "      <th>Tamanho_nome</th>\n",
              "    </tr>\n",
              "  </thead>\n",
              "  <tbody>\n",
              "    <tr>\n",
              "      <th>0</th>\n",
              "      <td>1</td>\n",
              "      <td>0</td>\n",
              "      <td>3</td>\n",
              "      <td>Braund, Mr. Owen Harris</td>\n",
              "      <td>male</td>\n",
              "      <td>22.0</td>\n",
              "      <td>1</td>\n",
              "      <td>0</td>\n",
              "      <td>A/5 21171</td>\n",
              "      <td>7.2500</td>\n",
              "      <td>NaN</td>\n",
              "      <td>S</td>\n",
              "      <td>23</td>\n",
              "    </tr>\n",
              "    <tr>\n",
              "      <th>1</th>\n",
              "      <td>2</td>\n",
              "      <td>1</td>\n",
              "      <td>1</td>\n",
              "      <td>Cumings, Mrs. John Bradley (Florence Briggs Th...</td>\n",
              "      <td>female</td>\n",
              "      <td>38.0</td>\n",
              "      <td>1</td>\n",
              "      <td>0</td>\n",
              "      <td>PC 17599</td>\n",
              "      <td>71.2833</td>\n",
              "      <td>C85</td>\n",
              "      <td>C</td>\n",
              "      <td>51</td>\n",
              "    </tr>\n",
              "    <tr>\n",
              "      <th>2</th>\n",
              "      <td>3</td>\n",
              "      <td>1</td>\n",
              "      <td>3</td>\n",
              "      <td>Heikkinen, Miss. Laina</td>\n",
              "      <td>female</td>\n",
              "      <td>26.0</td>\n",
              "      <td>0</td>\n",
              "      <td>0</td>\n",
              "      <td>STON/O2. 3101282</td>\n",
              "      <td>7.9250</td>\n",
              "      <td>NaN</td>\n",
              "      <td>S</td>\n",
              "      <td>22</td>\n",
              "    </tr>\n",
              "    <tr>\n",
              "      <th>3</th>\n",
              "      <td>4</td>\n",
              "      <td>1</td>\n",
              "      <td>1</td>\n",
              "      <td>Futrelle, Mrs. Jacques Heath (Lily May Peel)</td>\n",
              "      <td>female</td>\n",
              "      <td>35.0</td>\n",
              "      <td>1</td>\n",
              "      <td>0</td>\n",
              "      <td>113803</td>\n",
              "      <td>53.1000</td>\n",
              "      <td>C123</td>\n",
              "      <td>S</td>\n",
              "      <td>44</td>\n",
              "    </tr>\n",
              "    <tr>\n",
              "      <th>4</th>\n",
              "      <td>5</td>\n",
              "      <td>0</td>\n",
              "      <td>3</td>\n",
              "      <td>Allen, Mr. William Henry</td>\n",
              "      <td>male</td>\n",
              "      <td>35.0</td>\n",
              "      <td>0</td>\n",
              "      <td>0</td>\n",
              "      <td>373450</td>\n",
              "      <td>8.0500</td>\n",
              "      <td>NaN</td>\n",
              "      <td>S</td>\n",
              "      <td>24</td>\n",
              "    </tr>\n",
              "  </tbody>\n",
              "</table>\n",
              "</div>"
            ],
            "text/plain": [
              "   PassengerId  Survived  Pclass  ... Cabin Embarked  Tamanho_nome\n",
              "0            1         0       3  ...   NaN        S            23\n",
              "1            2         1       1  ...   C85        C            51\n",
              "2            3         1       3  ...   NaN        S            22\n",
              "3            4         1       1  ...  C123        S            44\n",
              "4            5         0       3  ...   NaN        S            24\n",
              "\n",
              "[5 rows x 13 columns]"
            ]
          },
          "metadata": {
            "tags": []
          },
          "execution_count": 45
        }
      ]
    },
    {
      "cell_type": "code",
      "metadata": {
        "id": "w3nrk9nO_yvm",
        "colab_type": "code",
        "colab": {}
      },
      "source": [
        "test_data.head()"
      ],
      "execution_count": 0,
      "outputs": []
    },
    {
      "cell_type": "code",
      "metadata": {
        "id": "BwHGYk1Z4ZUd",
        "colab_type": "code",
        "colab": {}
      },
      "source": [
        "train_data[\"Survived\"] = train_data[\"Survived\"].astype(float) ##quando não estava conseguindo a acurácia com decimal"
      ],
      "execution_count": 0,
      "outputs": []
    },
    {
      "cell_type": "markdown",
      "metadata": {
        "id": "PeEiqdS_ygj2",
        "colab_type": "text"
      },
      "source": [
        "##Preenchendo valores nulos, criando e transformando variáveis"
      ]
    },
    {
      "cell_type": "code",
      "metadata": {
        "id": "e5KKKcQfyuei",
        "colab_type": "code",
        "colab": {}
      },
      "source": [
        "train_data['Fare'] = train_data['Fare'].fillna(train_data['Fare'].mean())\n",
        "train_data['Age'] = train_data['Age'].fillna(train_data['Age'].mean())\n",
        "train_data['Embarked'] = train_data['Embarked'].fillna(train_data['Embarked'].mode())\n",
        "train_data['Tamanho_nome'] = train_data['Name'].apply(len)\n",
        "\n",
        "#train_data['Cabin'] = np.where(train_data[\"Cabin\"].isnull(), 0, train_data['Cabin'])\n",
        "\n",
        "test_data['Fare'] = test_data['Fare'].fillna(test_data['Fare'].mean())\n",
        "test_data['Age'] = test_data['Age'].fillna(test_data['Age'].mean())\n",
        "test_data['Embarked'] = test_data['Embarked'].fillna(test_data['Embarked'].mode())\n",
        "test_data['Tamanho_nome'] = test_data['Name'].apply(len)\n",
        "\n",
        "#test_data['Cabin'] = np.where(test_data[\"Cabin\"].isnull(), 0, test_data['Cabin'])"
      ],
      "execution_count": 0,
      "outputs": []
    },
    {
      "cell_type": "markdown",
      "metadata": {
        "id": "ZWOz2sF5cXof",
        "colab_type": "text"
      },
      "source": [
        "## Setando as variáveis dummies"
      ]
    },
    {
      "cell_type": "code",
      "metadata": {
        "id": "iVyqQEaMI8AI",
        "colab_type": "code",
        "colab": {}
      },
      "source": [
        "variaveis = [\"Pclass\", \"Sex\", \"SibSp\", \"Parch\",\"Embarked\"]\n",
        "#variaveis = [\"Pclass\", \"Sex\", \"SibSp\", \"Parch\",\"Embarked\",\"Cabin\"]"
      ],
      "execution_count": 0,
      "outputs": []
    },
    {
      "cell_type": "markdown",
      "metadata": {
        "id": "b3tUmnlQd-EF",
        "colab_type": "text"
      },
      "source": [
        "##Populando o X e o y de treino"
      ]
    },
    {
      "cell_type": "code",
      "metadata": {
        "id": "TxPpQcprGzoW",
        "colab_type": "code",
        "colab": {}
      },
      "source": [
        "y = train_data[\"Survived\"]\n",
        "X = pd.get_dummies(train_data[variaveis])\n",
        "\n",
        "X['Fare'] = train_data['Fare']\n",
        "X['Age'] = train_data['Age']\n",
        "X['Tamanho_nome'] = train_data['Tamanho_nome']\n",
        "\n",
        "#X['Cabin'] = train_data[\"Cabin\"]"
      ],
      "execution_count": 0,
      "outputs": []
    },
    {
      "cell_type": "markdown",
      "metadata": {
        "id": "HqEGuHmWMEql",
        "colab_type": "text"
      },
      "source": [
        "###Validando o X"
      ]
    },
    {
      "cell_type": "code",
      "metadata": {
        "id": "2PSmhJfjJaS6",
        "colab_type": "code",
        "outputId": "9db7e2a4-920f-4116-9b80-7ea29246541a",
        "colab": {
          "base_uri": "https://localhost:8080/",
          "height": 80
        }
      },
      "source": [
        "X.head(1)"
      ],
      "execution_count": 28,
      "outputs": [
        {
          "output_type": "execute_result",
          "data": {
            "text/html": [
              "<div>\n",
              "<style scoped>\n",
              "    .dataframe tbody tr th:only-of-type {\n",
              "        vertical-align: middle;\n",
              "    }\n",
              "\n",
              "    .dataframe tbody tr th {\n",
              "        vertical-align: top;\n",
              "    }\n",
              "\n",
              "    .dataframe thead th {\n",
              "        text-align: right;\n",
              "    }\n",
              "</style>\n",
              "<table border=\"1\" class=\"dataframe\">\n",
              "  <thead>\n",
              "    <tr style=\"text-align: right;\">\n",
              "      <th></th>\n",
              "      <th>Pclass</th>\n",
              "      <th>SibSp</th>\n",
              "      <th>Parch</th>\n",
              "      <th>Sex_female</th>\n",
              "      <th>Sex_male</th>\n",
              "      <th>Embarked_C</th>\n",
              "      <th>Embarked_Q</th>\n",
              "      <th>Embarked_S</th>\n",
              "      <th>Fare</th>\n",
              "      <th>Age</th>\n",
              "      <th>Tamanho_nome</th>\n",
              "    </tr>\n",
              "  </thead>\n",
              "  <tbody>\n",
              "    <tr>\n",
              "      <th>0</th>\n",
              "      <td>3</td>\n",
              "      <td>1</td>\n",
              "      <td>0</td>\n",
              "      <td>0</td>\n",
              "      <td>1</td>\n",
              "      <td>0</td>\n",
              "      <td>0</td>\n",
              "      <td>1</td>\n",
              "      <td>7.25</td>\n",
              "      <td>22.0</td>\n",
              "      <td>23</td>\n",
              "    </tr>\n",
              "  </tbody>\n",
              "</table>\n",
              "</div>"
            ],
            "text/plain": [
              "   Pclass  SibSp  Parch  Sex_female  ...  Embarked_S  Fare   Age  Tamanho_nome\n",
              "0       3      1      0           0  ...           1  7.25  22.0            23\n",
              "\n",
              "[1 rows x 11 columns]"
            ]
          },
          "metadata": {
            "tags": []
          },
          "execution_count": 28
        }
      ]
    },
    {
      "cell_type": "markdown",
      "metadata": {
        "id": "0bcLiKJneLht",
        "colab_type": "text"
      },
      "source": [
        "## Populando o X de teste"
      ]
    },
    {
      "cell_type": "code",
      "metadata": {
        "id": "2_sIRBMtG8Lw",
        "colab_type": "code",
        "colab": {}
      },
      "source": [
        "X_test = pd.get_dummies(test_data[variaveis])\n",
        "\n",
        "X_test['Fare'] = test_data['Fare']\n",
        "X_test['Age'] = test_data['Age']\n",
        "X_test['Tamanho_nome'] = test_data['Tamanho_nome']\n",
        "\n",
        "#X_test['Cabin'] = test_data[\"Cabin\"]"
      ],
      "execution_count": 0,
      "outputs": []
    },
    {
      "cell_type": "markdown",
      "metadata": {
        "id": "I3tHWtkFci3p",
        "colab_type": "text"
      },
      "source": [
        "## Separando o dataset de treino e validação"
      ]
    },
    {
      "cell_type": "code",
      "metadata": {
        "id": "ujVXLMKhcpGq",
        "colab_type": "code",
        "colab": {}
      },
      "source": [
        "train_X, valid_X, train_y, valid_y = train_test_split(X, y, random_state = 0)"
      ],
      "execution_count": 0,
      "outputs": []
    },
    {
      "cell_type": "markdown",
      "metadata": {
        "id": "QgSWAReNMQHT",
        "colab_type": "text"
      },
      "source": [
        "###Validando"
      ]
    },
    {
      "cell_type": "code",
      "metadata": {
        "id": "i3_NynltfvAi",
        "colab_type": "code",
        "outputId": "026be996-b293-4b17-fe8b-d2c12e2175f4",
        "colab": {
          "base_uri": "https://localhost:8080/",
          "height": 34
        }
      },
      "source": [
        "train_X.shape"
      ],
      "execution_count": 30,
      "outputs": [
        {
          "output_type": "execute_result",
          "data": {
            "text/plain": [
              "(668, 11)"
            ]
          },
          "metadata": {
            "tags": []
          },
          "execution_count": 30
        }
      ]
    },
    {
      "cell_type": "code",
      "metadata": {
        "id": "Wn8QACIkfvT9",
        "colab_type": "code",
        "outputId": "0d93401d-8d6c-42cd-dfa3-d5082cfd0ce4",
        "colab": {
          "base_uri": "https://localhost:8080/",
          "height": 34
        }
      },
      "source": [
        "train_y.shape"
      ],
      "execution_count": 0,
      "outputs": [
        {
          "output_type": "execute_result",
          "data": {
            "text/plain": [
              "(668,)"
            ]
          },
          "metadata": {
            "tags": []
          },
          "execution_count": 51
        }
      ]
    },
    {
      "cell_type": "code",
      "metadata": {
        "id": "8LOQ_DF4fvK5",
        "colab_type": "code",
        "outputId": "202a41ec-38c4-49c5-cea7-1d0efaa44c72",
        "colab": {
          "base_uri": "https://localhost:8080/",
          "height": 34
        }
      },
      "source": [
        "valid_X.shape"
      ],
      "execution_count": 0,
      "outputs": [
        {
          "output_type": "execute_result",
          "data": {
            "text/plain": [
              "(223, 11)"
            ]
          },
          "metadata": {
            "tags": []
          },
          "execution_count": 52
        }
      ]
    },
    {
      "cell_type": "code",
      "metadata": {
        "id": "QcRkm0Bgfvc5",
        "colab_type": "code",
        "outputId": "a1477d0a-2afe-4149-8fa3-b422a8106042",
        "colab": {
          "base_uri": "https://localhost:8080/",
          "height": 34
        }
      },
      "source": [
        "valid_y.shape"
      ],
      "execution_count": 0,
      "outputs": [
        {
          "output_type": "execute_result",
          "data": {
            "text/plain": [
              "(223,)"
            ]
          },
          "metadata": {
            "tags": []
          },
          "execution_count": 53
        }
      ]
    },
    {
      "cell_type": "markdown",
      "metadata": {
        "id": "RHJneRxHfeLb",
        "colab_type": "text"
      },
      "source": [
        "##Rodando o modelo com dados de treino e prevendo com dados de validação"
      ]
    },
    {
      "cell_type": "markdown",
      "metadata": {
        "id": "0rv39LJ2sKQF",
        "colab_type": "text"
      },
      "source": [
        "###Única execução"
      ]
    },
    {
      "cell_type": "code",
      "metadata": {
        "id": "-hiJ5smqsHFi",
        "colab_type": "code",
        "outputId": "3427a0f8-0d54-4806-bd96-7a6e82484987",
        "colab": {
          "base_uri": "https://localhost:8080/",
          "height": 34
        }
      },
      "source": [
        "model = RandomForestClassifier(n_estimators=100, max_depth=50, random_state=1)\n",
        "model.fit(train_X, train_y)\n",
        "predictions = model.predict(valid_X)\n",
        "\n",
        "np.mean(valid_y == predictions)"
      ],
      "execution_count": 0,
      "outputs": [
        {
          "output_type": "execute_result",
          "data": {
            "text/plain": [
              "0.8385650224215246"
            ]
          },
          "metadata": {
            "tags": []
          },
          "execution_count": 168
        }
      ]
    },
    {
      "cell_type": "markdown",
      "metadata": {
        "colab_type": "text",
        "id": "1NKmcBJBr2S9"
      },
      "source": [
        "###ExtraTreesClassifier"
      ]
    },
    {
      "cell_type": "code",
      "metadata": {
        "id": "xSD_puemTiQw",
        "colab_type": "code",
        "outputId": "eb26fc35-9b40-4ca1-b40f-0854adc62727",
        "colab": {
          "base_uri": "https://localhost:8080/",
          "height": 241
        }
      },
      "source": [
        "for max_leaf_nodes in [5, 50, 500, 5000]:\n",
        "    retorno = compara_acuracia_ExtraTreesClassifier(max_leaf_nodes, train_X, valid_X, train_y, valid_y)\n",
        "    #print(\"Max leaf nodes: %d  \\t\\t Mean Absolute Error:  %d\" %(max_leaf_nodes, retorno))\n",
        "    print(retorno)"
      ],
      "execution_count": 43,
      "outputs": [
        {
          "output_type": "stream",
          "text": [
            "0.7802690582959642\n",
            "0.8340807174887892\n",
            "0.7937219730941704\n",
            "0.7937219730941704\n"
          ],
          "name": "stdout"
        },
        {
          "output_type": "stream",
          "text": [
            "/usr/local/lib/python3.6/dist-packages/sklearn/ensemble/forest.py:245: FutureWarning: The default value of n_estimators will change from 10 in version 0.20 to 100 in 0.22.\n",
            "  \"10 in version 0.20 to 100 in 0.22.\", FutureWarning)\n",
            "/usr/local/lib/python3.6/dist-packages/sklearn/ensemble/forest.py:245: FutureWarning: The default value of n_estimators will change from 10 in version 0.20 to 100 in 0.22.\n",
            "  \"10 in version 0.20 to 100 in 0.22.\", FutureWarning)\n",
            "/usr/local/lib/python3.6/dist-packages/sklearn/ensemble/forest.py:245: FutureWarning: The default value of n_estimators will change from 10 in version 0.20 to 100 in 0.22.\n",
            "  \"10 in version 0.20 to 100 in 0.22.\", FutureWarning)\n",
            "/usr/local/lib/python3.6/dist-packages/sklearn/ensemble/forest.py:245: FutureWarning: The default value of n_estimators will change from 10 in version 0.20 to 100 in 0.22.\n",
            "  \"10 in version 0.20 to 100 in 0.22.\", FutureWarning)\n"
          ],
          "name": "stderr"
        }
      ]
    },
    {
      "cell_type": "markdown",
      "metadata": {
        "id": "MlcKS5gsr9Fw",
        "colab_type": "text"
      },
      "source": [
        "###RandomForestClassifier"
      ]
    },
    {
      "cell_type": "code",
      "metadata": {
        "id": "70PT3faMrlgt",
        "colab_type": "code",
        "outputId": "9194b9ed-2aa0-4a32-b461-63e5d5dd6229",
        "colab": {
          "base_uri": "https://localhost:8080/",
          "height": 85
        }
      },
      "source": [
        "for max_leaf_nodes in [5, 50, 500, 5000]:\n",
        "    retorno = compara_acuracia_RandomForestClassifier(max_leaf_nodes, train_X, valid_X, train_y, valid_y)\n",
        "    print(retorno)"
      ],
      "execution_count": 44,
      "outputs": [
        {
          "output_type": "stream",
          "text": [
            "0.8071748878923767\n",
            "0.8340807174887892\n",
            "0.8340807174887892\n",
            "0.8340807174887892\n"
          ],
          "name": "stdout"
        }
      ]
    },
    {
      "cell_type": "markdown",
      "metadata": {
        "id": "u2EzBec0MZAA",
        "colab_type": "text"
      },
      "source": [
        "###RandomForestRegressor"
      ]
    },
    {
      "cell_type": "code",
      "metadata": {
        "id": "6DyEmMDPMZZY",
        "colab_type": "code",
        "outputId": "a7482d6f-9d76-478e-cb05-10c03b8b732d",
        "colab": {
          "base_uri": "https://localhost:8080/",
          "height": 85
        }
      },
      "source": [
        "for max_leaf_nodes in [5, 50, 500, 5000]:\n",
        "    retorno = compara_acuracia_RandomForestRegressor(max_leaf_nodes, train_X, valid_X, train_y, valid_y)\n",
        "    print(retorno)"
      ],
      "execution_count": 0,
      "outputs": [
        {
          "output_type": "stream",
          "text": [
            "0.0\n",
            "0.08071748878923767\n",
            "0.08071748878923767\n",
            "0.08071748878923767\n"
          ],
          "name": "stdout"
        }
      ]
    },
    {
      "cell_type": "markdown",
      "metadata": {
        "id": "XOVQyQ3-r_5C",
        "colab_type": "text"
      },
      "source": [
        "###LogisticRegression"
      ]
    },
    {
      "cell_type": "code",
      "metadata": {
        "id": "a9CdWARDrlc6",
        "colab_type": "code",
        "outputId": "96711562-27fb-4506-f9cb-21b8e53fad3e",
        "colab": {
          "base_uri": "https://localhost:8080/",
          "height": 275
        }
      },
      "source": [
        "for max_leaf_nodes in [5, 50, 500, 5000]:\n",
        "    retorno = compara_acuracia_LogisticRegression(max_leaf_nodes, train_X, valid_X, train_y, valid_y)\n",
        "    print(retorno)"
      ],
      "execution_count": 0,
      "outputs": [
        {
          "output_type": "stream",
          "text": [
            "0.7713004484304933\n",
            "0.7982062780269058\n",
            "0.7982062780269058\n",
            "0.7982062780269058\n"
          ],
          "name": "stdout"
        },
        {
          "output_type": "stream",
          "text": [
            "/usr/local/lib/python3.6/dist-packages/sklearn/linear_model/logistic.py:432: FutureWarning: Default solver will be changed to 'lbfgs' in 0.22. Specify a solver to silence this warning.\n",
            "  FutureWarning)\n",
            "/usr/local/lib/python3.6/dist-packages/sklearn/svm/base.py:929: ConvergenceWarning: Liblinear failed to converge, increase the number of iterations.\n",
            "  \"the number of iterations.\", ConvergenceWarning)\n",
            "/usr/local/lib/python3.6/dist-packages/sklearn/linear_model/logistic.py:432: FutureWarning: Default solver will be changed to 'lbfgs' in 0.22. Specify a solver to silence this warning.\n",
            "  FutureWarning)\n",
            "/usr/local/lib/python3.6/dist-packages/sklearn/linear_model/logistic.py:432: FutureWarning: Default solver will be changed to 'lbfgs' in 0.22. Specify a solver to silence this warning.\n",
            "  FutureWarning)\n",
            "/usr/local/lib/python3.6/dist-packages/sklearn/linear_model/logistic.py:432: FutureWarning: Default solver will be changed to 'lbfgs' in 0.22. Specify a solver to silence this warning.\n",
            "  FutureWarning)\n"
          ],
          "name": "stderr"
        }
      ]
    },
    {
      "cell_type": "markdown",
      "metadata": {
        "id": "_It80-Pqfmt1",
        "colab_type": "text"
      },
      "source": [
        "##Prevendo o modelo com dados de teste"
      ]
    },
    {
      "cell_type": "code",
      "metadata": {
        "id": "9K7sUbycbsi6",
        "colab_type": "code",
        "colab": {}
      },
      "source": [
        "predictions = model.predict(X_test)"
      ],
      "execution_count": 0,
      "outputs": []
    },
    {
      "cell_type": "markdown",
      "metadata": {
        "id": "k7bV214wf1Kx",
        "colab_type": "text"
      },
      "source": [
        "## Criar submission"
      ]
    },
    {
      "cell_type": "code",
      "metadata": {
        "id": "ndIjGY14Jz0Y",
        "colab_type": "code",
        "colab": {}
      },
      "source": [
        "sub = pd.Series(predictions, index=test_data['PassengerId'], name='Survived')\n",
        "sub.to_csv(\"Sub RandomForest com sete variáveis split.csv\", header=True)"
      ],
      "execution_count": 0,
      "outputs": []
    },
    {
      "cell_type": "code",
      "metadata": {
        "id": "gU0tCN-XJ6QB",
        "colab_type": "code",
        "outputId": "03a3db5a-11c1-4f45-f382-40982a32ce14",
        "colab": {
          "base_uri": "https://localhost:8080/",
          "height": 34
        }
      },
      "source": [
        "!head -n10 \"Sub RandomForest.csv\""
      ],
      "execution_count": 0,
      "outputs": [
        {
          "output_type": "stream",
          "text": [
            "head: cannot open 'Sub RandomForest.csv' for reading: No such file or directory\n"
          ],
          "name": "stdout"
        }
      ]
    }
  ]
}