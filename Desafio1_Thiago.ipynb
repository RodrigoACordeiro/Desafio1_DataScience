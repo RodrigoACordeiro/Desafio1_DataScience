{
  "nbformat": 4,
  "nbformat_minor": 0,
  "metadata": {
    "kernelspec": {
      "display_name": "Python 3",
      "language": "python",
      "name": "python3"
    },
    "language_info": {
      "codemirror_mode": {
        "name": "ipython",
        "version": 3
      },
      "file_extension": ".py",
      "mimetype": "text/x-python",
      "name": "python",
      "nbconvert_exporter": "python",
      "pygments_lexer": "ipython3",
      "version": "3.6.5"
    },
    "latex_envs": {
      "LaTeX_envs_menu_present": true,
      "autoclose": false,
      "autocomplete": true,
      "bibliofile": "biblio.bib",
      "cite_by": "apalike",
      "current_citInitial": 1,
      "eqLabelWithNumbers": true,
      "eqNumInitial": 1,
      "hotkeys": {
        "equation": "Ctrl-E",
        "itemize": "Ctrl-I"
      },
      "labels_anchors": false,
      "latex_user_defs": false,
      "report_style_numbering": false,
      "user_envs_cfg": false
    },
    "toc": {
      "base_numbering": 1,
      "nav_menu": {},
      "number_sections": true,
      "sideBar": true,
      "skip_h1_title": false,
      "title_cell": "Table of Contents",
      "title_sidebar": "Contents",
      "toc_cell": false,
      "toc_position": {},
      "toc_section_display": true,
      "toc_window_display": false
    },
    "varInspector": {
      "cols": {
        "lenName": 16,
        "lenType": 16,
        "lenVar": 40
      },
      "kernels_config": {
        "python": {
          "delete_cmd_postfix": "",
          "delete_cmd_prefix": "del ",
          "library": "var_list.py",
          "varRefreshCmd": "print(var_dic_list())"
        },
        "r": {
          "delete_cmd_postfix": ") ",
          "delete_cmd_prefix": "rm(",
          "library": "var_list.r",
          "varRefreshCmd": "cat(var_dic_list()) "
        }
      },
      "types_to_exclude": [
        "module",
        "function",
        "builtin_function_or_method",
        "instance",
        "_Feature"
      ],
      "window_display": false
    },
    "colab": {
      "name": "Desafio1_Thiago.ipynb",
      "provenance": [],
      "collapsed_sections": [],
      "include_colab_link": true
    }
  },
  "cells": [
    {
      "cell_type": "markdown",
      "metadata": {
        "id": "view-in-github",
        "colab_type": "text"
      },
      "source": [
        "<a href=\"https://colab.research.google.com/github/tsilverio/Desafio1_DataScience/blob/master/Desafio1_Thiago.ipynb\" target=\"_parent\"><img src=\"https://colab.research.google.com/assets/colab-badge.svg\" alt=\"Open In Colab\"/></a>"
      ]
    },
    {
      "cell_type": "markdown",
      "metadata": {
        "id": "sBYedbFrokT9",
        "colab_type": "text"
      },
      "source": [
        "## Desafio_1\n",
        "\n",
        "Agora vamos praticas tudo o que aprendemos no módulo 1 utilizando dados reais do CAGED (Cadastro Geral de Empregados e Desempregados)\n",
        "\n",
        "<br>\n",
        "<img src=\"img/caged.png\" width='1200' >\n",
        "<br>\n",
        "\n",
        "O Cadastro Geral de Empregados e Desempregados (CAGED) foi criado como registro permanente de admissões e dispensa de empregados, sob o regime da Consolidação das Leis do Trabalho (CLT).\n",
        "\n",
        "É utilizado pelo Programa de Seguro-Desemprego, para conferir os dados referentes aos vínculos trabalhistas, além de outros programas sociais.\n",
        "\n",
        "Este Cadastro serve, ainda, como base para a elaboração de estudos, pesquisas, projetos e programas ligados ao mercado de trabalho, ao mesmo tempo em que subsidia a tomada de decisões para ações governamentais.\n",
        "\n",
        "Visite o site do CAGED através [deste link](http://trabalho.gov.br/trabalhador-caged/2015-09-10-17-46-22) e acesse os dados clicando inicialemente em **ESTATÍSTICA** e depois em **MICRODADOS**, então acesse a base de dados do CAGED e baixe o último arquivo do ano de 2018 **CAGEDEST_122018.7z**. Além disso, baize também o arquivo **CAGEDEST_layout_Atualizado.xls** para o dicionário de dados.\n",
        "\n",
        "Após isso, podemos começar as nossas análises:\n",
        "\n",
        "1. **Importar as bibliotecas** e ler os dados: Importe as bibliotecas necessárias e verifique a cara dos dados e suas informações básicas dos conteúdos das colunas.\n",
        "\n",
        "2. Limpeza e transformação da variável alvo **Salário Mensal**: verifique o tipo de dado da variával Salário Mensal, faça as devidas mudanças, plote a distribuição e dispersão dos dados e aplique a transformação matemática para a correção da assimetria.\n",
        "\n",
        "3. Verificação dos dados da variável **Idade**: verifique os dados da variável Idade, plote uma distribuição e uma dispersão, calcule a correlação com a variável salário mensal e interprete os resultados.\n",
        "\n",
        "4. Verificação dos dados da variável **Grau de Instrução**: verifique os dados da variável Grau de instrução, plote uma distribuição e uma dispersão, calcule a correlação com a variável salário mensal e interprete os resultados.\n",
        "\n",
        "5. Verificação dos dados da variável **Sexo**: verifique os dados da variável Sexo, plote uma distribuição e uma dispersão, calcule a correlação com a variável salário mensal e interprete os resultados. Depois disso, faça uma inferência estatística pra verificar se os homens ganham mais que as mulheres.\n",
        "\n",
        "6. Verificação dos dados da variável **Raça Cor**: verifique os dados da variável Raça Cor, plote uma distribuição e uma dispersão, calcule a correlação com a variável salário mensal e interprete os resultados. Depois disso, faça uma inferência estatística pra verificar se os brancos ganham mais que os outros grupos étnicos.\n",
        "\n",
        "7. Elaborar uma hipótese para ser rejeitada ou não-rejeitada por você de acordo com o resultado da sua análise, através da utilização dos dados do CAJED considerando as suas colunas.\n",
        "\n",
        "8. Avançado: plote **todas as correlações das variávies numéricas entre si**. Sugestão busque uma biblioteca chamada SEABORN e plote um heatmap com as correlações.\n",
        "\n",
        "<!--9. Avançado: Plote uma **regressão múltipla**.-->\n"
      ]
    },
    {
      "cell_type": "code",
      "metadata": {
        "id": "fjAgoDGbokT-",
        "colab_type": "code",
        "colab": {}
      },
      "source": [
        "import pandas as pd\n",
        "import numpy as np\n",
        "import re\n",
        "import matplotlib.pyplot as plt\n",
        "\n",
        "\n",
        "\n",
        "import warnings\n",
        "warnings.filterwarnings(\"ignore\")"
      ],
      "execution_count": 0,
      "outputs": []
    },
    {
      "cell_type": "code",
      "metadata": {
        "id": "fwKkeoOMsKTm",
        "colab_type": "code",
        "outputId": "6cc2e220-052e-477e-f83e-0a292955db4b",
        "colab": {
          "base_uri": "https://localhost:8080/",
          "height": 122
        }
      },
      "source": [
        "from google.colab import drive \n",
        "drive.mount('/content/gdrive')"
      ],
      "execution_count": 2,
      "outputs": [
        {
          "output_type": "stream",
          "text": [
            "Go to this URL in a browser: https://accounts.google.com/o/oauth2/auth?client_id=947318989803-6bn6qk8qdgf4n4g3pfee6491hc0brc4i.apps.googleusercontent.com&redirect_uri=urn%3Aietf%3Awg%3Aoauth%3A2.0%3Aoob&scope=email%20https%3A%2F%2Fwww.googleapis.com%2Fauth%2Fdocs.test%20https%3A%2F%2Fwww.googleapis.com%2Fauth%2Fdrive%20https%3A%2F%2Fwww.googleapis.com%2Fauth%2Fdrive.photos.readonly%20https%3A%2F%2Fwww.googleapis.com%2Fauth%2Fpeopleapi.readonly&response_type=code\n",
            "\n",
            "Enter your authorization code:\n",
            "··········\n",
            "Mounted at /content/gdrive\n"
          ],
          "name": "stdout"
        }
      ]
    },
    {
      "cell_type": "code",
      "metadata": {
        "id": "WE1JHeYAsOAA",
        "colab_type": "code",
        "colab": {}
      },
      "source": [
        "import pandas as pd \n",
        "df=pd.read_csv('gdrive/My Drive/Desafio 1-20190910/CAGEDEST_122018.txt', encoding='latin-1', delimiter = ';')"
      ],
      "execution_count": 0,
      "outputs": []
    },
    {
      "cell_type": "code",
      "metadata": {
        "id": "bhCCT2ngtnOJ",
        "colab_type": "code",
        "outputId": "4f8695f9-b338-4bed-bbd6-439449cb0331",
        "colab": {
          "base_uri": "https://localhost:8080/",
          "height": 275
        }
      },
      "source": [
        "df.head()"
      ],
      "execution_count": 4,
      "outputs": [
        {
          "output_type": "execute_result",
          "data": {
            "text/html": [
              "<div>\n",
              "<style scoped>\n",
              "    .dataframe tbody tr th:only-of-type {\n",
              "        vertical-align: middle;\n",
              "    }\n",
              "\n",
              "    .dataframe tbody tr th {\n",
              "        vertical-align: top;\n",
              "    }\n",
              "\n",
              "    .dataframe thead th {\n",
              "        text-align: right;\n",
              "    }\n",
              "</style>\n",
              "<table border=\"1\" class=\"dataframe\">\n",
              "  <thead>\n",
              "    <tr style=\"text-align: right;\">\n",
              "      <th></th>\n",
              "      <th>Admitidos/Desligados</th>\n",
              "      <th>Competência Declarada</th>\n",
              "      <th>Município</th>\n",
              "      <th>Ano Declarado</th>\n",
              "      <th>CBO 2002 Ocupação</th>\n",
              "      <th>CNAE 1.0 Classe</th>\n",
              "      <th>CNAE 2.0 Classe</th>\n",
              "      <th>CNAE 2.0 Subclas</th>\n",
              "      <th>Faixa Empr Início Jan</th>\n",
              "      <th>Grau Instrução</th>\n",
              "      <th>Qtd Hora Contrat</th>\n",
              "      <th>IBGE Subsetor</th>\n",
              "      <th>Idade</th>\n",
              "      <th>Ind Aprendiz</th>\n",
              "      <th>Ind Portador Defic</th>\n",
              "      <th>Raça Cor</th>\n",
              "      <th>Salário Mensal</th>\n",
              "      <th>Saldo Mov</th>\n",
              "      <th>Sexo</th>\n",
              "      <th>Tempo Emprego</th>\n",
              "      <th>Tipo Estab</th>\n",
              "      <th>Tipo Defic</th>\n",
              "      <th>Tipo Mov Desagregado</th>\n",
              "      <th>UF</th>\n",
              "      <th>Bairros SP</th>\n",
              "      <th>Bairros Fortaleza</th>\n",
              "      <th>Bairros RJ</th>\n",
              "      <th>Distritos SP</th>\n",
              "      <th>Regiões Adm DF</th>\n",
              "      <th>Mesorregião</th>\n",
              "      <th>Microrregião</th>\n",
              "      <th>Região Adm RJ</th>\n",
              "      <th>Região Adm SP</th>\n",
              "      <th>Região Corede</th>\n",
              "      <th>Região Corede 04</th>\n",
              "      <th>Região Gov SP</th>\n",
              "      <th>Região Senac PR</th>\n",
              "      <th>Região Senai PR</th>\n",
              "      <th>Região Senai SP</th>\n",
              "      <th>Sub-Região Senai PR</th>\n",
              "      <th>Ind Trab Parcial</th>\n",
              "      <th>Ind Trab Intermitente</th>\n",
              "    </tr>\n",
              "  </thead>\n",
              "  <tbody>\n",
              "    <tr>\n",
              "      <th>0</th>\n",
              "      <td>1</td>\n",
              "      <td>201812</td>\n",
              "      <td>500215</td>\n",
              "      <td>2018</td>\n",
              "      <td>711210</td>\n",
              "      <td>1619</td>\n",
              "      <td>1610</td>\n",
              "      <td>161003</td>\n",
              "      <td>1</td>\n",
              "      <td>6</td>\n",
              "      <td>40</td>\n",
              "      <td>25</td>\n",
              "      <td>24</td>\n",
              "      <td>0</td>\n",
              "      <td>0</td>\n",
              "      <td>8</td>\n",
              "      <td>000954,00</td>\n",
              "      <td>1</td>\n",
              "      <td>1</td>\n",
              "      <td>0000,0</td>\n",
              "      <td>1</td>\n",
              "      <td>0</td>\n",
              "      <td>1</td>\n",
              "      <td>50</td>\n",
              "      <td>{ñ c</td>\n",
              "      <td>{ñ c</td>\n",
              "      <td>{ñ c</td>\n",
              "      <td>{ñ c</td>\n",
              "      <td>0</td>\n",
              "      <td>5004</td>\n",
              "      <td>50009</td>\n",
              "      <td>{ñ</td>\n",
              "      <td>999</td>\n",
              "      <td>{ñ</td>\n",
              "      <td>99</td>\n",
              "      <td>999</td>\n",
              "      <td>99</td>\n",
              "      <td>{ñ</td>\n",
              "      <td>999</td>\n",
              "      <td>99</td>\n",
              "      <td>0</td>\n",
              "      <td>0</td>\n",
              "    </tr>\n",
              "    <tr>\n",
              "      <th>1</th>\n",
              "      <td>1</td>\n",
              "      <td>201812</td>\n",
              "      <td>500710</td>\n",
              "      <td>2018</td>\n",
              "      <td>321210</td>\n",
              "      <td>2119</td>\n",
              "      <td>2101</td>\n",
              "      <td>210101</td>\n",
              "      <td>1</td>\n",
              "      <td>8</td>\n",
              "      <td>44</td>\n",
              "      <td>25</td>\n",
              "      <td>25</td>\n",
              "      <td>0</td>\n",
              "      <td>0</td>\n",
              "      <td>2</td>\n",
              "      <td>002500,00</td>\n",
              "      <td>1</td>\n",
              "      <td>1</td>\n",
              "      <td>0000,0</td>\n",
              "      <td>1</td>\n",
              "      <td>0</td>\n",
              "      <td>1</td>\n",
              "      <td>50</td>\n",
              "      <td>{ñ c</td>\n",
              "      <td>{ñ c</td>\n",
              "      <td>{ñ c</td>\n",
              "      <td>{ñ c</td>\n",
              "      <td>0</td>\n",
              "      <td>5003</td>\n",
              "      <td>50007</td>\n",
              "      <td>{ñ</td>\n",
              "      <td>999</td>\n",
              "      <td>{ñ</td>\n",
              "      <td>99</td>\n",
              "      <td>999</td>\n",
              "      <td>99</td>\n",
              "      <td>{ñ</td>\n",
              "      <td>999</td>\n",
              "      <td>99</td>\n",
              "      <td>0</td>\n",
              "      <td>0</td>\n",
              "    </tr>\n",
              "    <tr>\n",
              "      <th>2</th>\n",
              "      <td>1</td>\n",
              "      <td>201812</td>\n",
              "      <td>500460</td>\n",
              "      <td>2018</td>\n",
              "      <td>623110</td>\n",
              "      <td>1619</td>\n",
              "      <td>1610</td>\n",
              "      <td>161003</td>\n",
              "      <td>1</td>\n",
              "      <td>2</td>\n",
              "      <td>1</td>\n",
              "      <td>25</td>\n",
              "      <td>55</td>\n",
              "      <td>0</td>\n",
              "      <td>0</td>\n",
              "      <td>8</td>\n",
              "      <td>000000,00</td>\n",
              "      <td>1</td>\n",
              "      <td>1</td>\n",
              "      <td>0000,0</td>\n",
              "      <td>1</td>\n",
              "      <td>0</td>\n",
              "      <td>1</td>\n",
              "      <td>50</td>\n",
              "      <td>{ñ c</td>\n",
              "      <td>{ñ c</td>\n",
              "      <td>{ñ c</td>\n",
              "      <td>{ñ c</td>\n",
              "      <td>0</td>\n",
              "      <td>5004</td>\n",
              "      <td>50011</td>\n",
              "      <td>{ñ</td>\n",
              "      <td>999</td>\n",
              "      <td>{ñ</td>\n",
              "      <td>99</td>\n",
              "      <td>999</td>\n",
              "      <td>99</td>\n",
              "      <td>{ñ</td>\n",
              "      <td>999</td>\n",
              "      <td>99</td>\n",
              "      <td>0</td>\n",
              "      <td>1</td>\n",
              "    </tr>\n",
              "    <tr>\n",
              "      <th>3</th>\n",
              "      <td>1</td>\n",
              "      <td>201812</td>\n",
              "      <td>500460</td>\n",
              "      <td>2018</td>\n",
              "      <td>623110</td>\n",
              "      <td>1619</td>\n",
              "      <td>1610</td>\n",
              "      <td>161003</td>\n",
              "      <td>1</td>\n",
              "      <td>2</td>\n",
              "      <td>1</td>\n",
              "      <td>25</td>\n",
              "      <td>52</td>\n",
              "      <td>0</td>\n",
              "      <td>0</td>\n",
              "      <td>8</td>\n",
              "      <td>000000,00</td>\n",
              "      <td>1</td>\n",
              "      <td>1</td>\n",
              "      <td>0000,0</td>\n",
              "      <td>1</td>\n",
              "      <td>0</td>\n",
              "      <td>1</td>\n",
              "      <td>50</td>\n",
              "      <td>{ñ c</td>\n",
              "      <td>{ñ c</td>\n",
              "      <td>{ñ c</td>\n",
              "      <td>{ñ c</td>\n",
              "      <td>0</td>\n",
              "      <td>5004</td>\n",
              "      <td>50011</td>\n",
              "      <td>{ñ</td>\n",
              "      <td>999</td>\n",
              "      <td>{ñ</td>\n",
              "      <td>99</td>\n",
              "      <td>999</td>\n",
              "      <td>99</td>\n",
              "      <td>{ñ</td>\n",
              "      <td>999</td>\n",
              "      <td>99</td>\n",
              "      <td>0</td>\n",
              "      <td>1</td>\n",
              "    </tr>\n",
              "    <tr>\n",
              "      <th>4</th>\n",
              "      <td>1</td>\n",
              "      <td>201812</td>\n",
              "      <td>500460</td>\n",
              "      <td>2018</td>\n",
              "      <td>623110</td>\n",
              "      <td>1619</td>\n",
              "      <td>1610</td>\n",
              "      <td>161003</td>\n",
              "      <td>1</td>\n",
              "      <td>2</td>\n",
              "      <td>1</td>\n",
              "      <td>25</td>\n",
              "      <td>32</td>\n",
              "      <td>0</td>\n",
              "      <td>0</td>\n",
              "      <td>8</td>\n",
              "      <td>000000,00</td>\n",
              "      <td>1</td>\n",
              "      <td>1</td>\n",
              "      <td>0000,0</td>\n",
              "      <td>1</td>\n",
              "      <td>0</td>\n",
              "      <td>1</td>\n",
              "      <td>50</td>\n",
              "      <td>{ñ c</td>\n",
              "      <td>{ñ c</td>\n",
              "      <td>{ñ c</td>\n",
              "      <td>{ñ c</td>\n",
              "      <td>0</td>\n",
              "      <td>5004</td>\n",
              "      <td>50011</td>\n",
              "      <td>{ñ</td>\n",
              "      <td>999</td>\n",
              "      <td>{ñ</td>\n",
              "      <td>99</td>\n",
              "      <td>999</td>\n",
              "      <td>99</td>\n",
              "      <td>{ñ</td>\n",
              "      <td>999</td>\n",
              "      <td>99</td>\n",
              "      <td>0</td>\n",
              "      <td>1</td>\n",
              "    </tr>\n",
              "  </tbody>\n",
              "</table>\n",
              "</div>"
            ],
            "text/plain": [
              "   Admitidos/Desligados  ...  Ind Trab Intermitente\n",
              "0                     1  ...                      0\n",
              "1                     1  ...                      0\n",
              "2                     1  ...                      1\n",
              "3                     1  ...                      1\n",
              "4                     1  ...                      1\n",
              "\n",
              "[5 rows x 42 columns]"
            ]
          },
          "metadata": {
            "tags": []
          },
          "execution_count": 4
        }
      ]
    },
    {
      "cell_type": "markdown",
      "metadata": {
        "id": "UAySJl1fQLgc",
        "colab_type": "text"
      },
      "source": [
        ""
      ]
    },
    {
      "cell_type": "code",
      "metadata": {
        "id": "ya3LJzLh15MN",
        "colab_type": "code",
        "outputId": "136f4831-bec3-4afa-8465-b603223b0bf7",
        "colab": {
          "base_uri": "https://localhost:8080/",
          "height": 34
        }
      },
      "source": [
        "df.shape"
      ],
      "execution_count": 5,
      "outputs": [
        {
          "output_type": "execute_result",
          "data": {
            "text/plain": [
              "(2256752, 42)"
            ]
          },
          "metadata": {
            "tags": []
          },
          "execution_count": 5
        }
      ]
    },
    {
      "cell_type": "code",
      "metadata": {
        "id": "gzI3kti5sjo9",
        "colab_type": "code",
        "outputId": "c9357eb4-c7d8-41a2-def1-3a27157e1aa7",
        "colab": {
          "base_uri": "https://localhost:8080/",
          "height": 816
        }
      },
      "source": [
        "df.info()"
      ],
      "execution_count": 6,
      "outputs": [
        {
          "output_type": "stream",
          "text": [
            "<class 'pandas.core.frame.DataFrame'>\n",
            "RangeIndex: 2256752 entries, 0 to 2256751\n",
            "Data columns (total 42 columns):\n",
            "Admitidos/Desligados     int64\n",
            "Competência Declarada    int64\n",
            "Município                int64\n",
            "Ano Declarado            int64\n",
            "CBO 2002 Ocupação        int64\n",
            "CNAE 1.0 Classe          int64\n",
            "CNAE 2.0 Classe          int64\n",
            "CNAE 2.0 Subclas         int64\n",
            "Faixa Empr Início Jan    int64\n",
            "Grau Instrução           int64\n",
            "Qtd Hora Contrat         int64\n",
            "IBGE Subsetor            int64\n",
            "Idade                    int64\n",
            "Ind Aprendiz             int64\n",
            "Ind Portador Defic       int64\n",
            "Raça Cor                 int64\n",
            "Salário Mensal           object\n",
            "Saldo Mov                int64\n",
            "Sexo                     int64\n",
            "Tempo Emprego            object\n",
            "Tipo Estab               int64\n",
            "Tipo Defic               int64\n",
            "Tipo Mov Desagregado     int64\n",
            "UF                       int64\n",
            "Bairros SP               object\n",
            "Bairros Fortaleza        object\n",
            "Bairros RJ               object\n",
            "Distritos SP             object\n",
            "Regiões Adm DF           int64\n",
            "Mesorregião              int64\n",
            "Microrregião             int64\n",
            "Região Adm RJ            object\n",
            "Região Adm SP            object\n",
            "Região Corede            object\n",
            "Região Corede 04         object\n",
            "Região Gov SP            object\n",
            "Região Senac PR          object\n",
            "Região Senai PR          object\n",
            "Região Senai SP          object\n",
            "Sub-Região Senai PR      object\n",
            "Ind Trab Parcial         int64\n",
            "Ind Trab Intermitente    int64\n",
            "dtypes: int64(27), object(15)\n",
            "memory usage: 723.1+ MB\n"
          ],
          "name": "stdout"
        }
      ]
    },
    {
      "cell_type": "code",
      "metadata": {
        "id": "I8GgvjN9jiPs",
        "colab_type": "code",
        "colab": {
          "base_uri": "https://localhost:8080/",
          "height": 204
        },
        "outputId": "8906e897-8771-4e00-a1cf-b4c0fd95d8df"
      },
      "source": [
        "df_desafio = df[['Idade','Salário Mensal','Grau Instrução','Sexo', 'Raça Cor']]\n",
        "df_desafio['Salário Mensal'] = df_desafio['Salário Mensal'].map(lambda x: float(re.sub(r',', '.', x)))\n",
        "df_desafio.loc[df_desafio['Salário Mensal'] == 0, 'Salário Mensal'] = round(df_desafio['Salário Mensal'].mean(),2)\n",
        "df_desafio.head()"
      ],
      "execution_count": 7,
      "outputs": [
        {
          "output_type": "execute_result",
          "data": {
            "text/html": [
              "<div>\n",
              "<style scoped>\n",
              "    .dataframe tbody tr th:only-of-type {\n",
              "        vertical-align: middle;\n",
              "    }\n",
              "\n",
              "    .dataframe tbody tr th {\n",
              "        vertical-align: top;\n",
              "    }\n",
              "\n",
              "    .dataframe thead th {\n",
              "        text-align: right;\n",
              "    }\n",
              "</style>\n",
              "<table border=\"1\" class=\"dataframe\">\n",
              "  <thead>\n",
              "    <tr style=\"text-align: right;\">\n",
              "      <th></th>\n",
              "      <th>Idade</th>\n",
              "      <th>Salário Mensal</th>\n",
              "      <th>Grau Instrução</th>\n",
              "      <th>Sexo</th>\n",
              "      <th>Raça Cor</th>\n",
              "    </tr>\n",
              "  </thead>\n",
              "  <tbody>\n",
              "    <tr>\n",
              "      <th>0</th>\n",
              "      <td>24</td>\n",
              "      <td>954.00</td>\n",
              "      <td>6</td>\n",
              "      <td>1</td>\n",
              "      <td>8</td>\n",
              "    </tr>\n",
              "    <tr>\n",
              "      <th>1</th>\n",
              "      <td>25</td>\n",
              "      <td>2500.00</td>\n",
              "      <td>8</td>\n",
              "      <td>1</td>\n",
              "      <td>2</td>\n",
              "    </tr>\n",
              "    <tr>\n",
              "      <th>2</th>\n",
              "      <td>55</td>\n",
              "      <td>1627.24</td>\n",
              "      <td>2</td>\n",
              "      <td>1</td>\n",
              "      <td>8</td>\n",
              "    </tr>\n",
              "    <tr>\n",
              "      <th>3</th>\n",
              "      <td>52</td>\n",
              "      <td>1627.24</td>\n",
              "      <td>2</td>\n",
              "      <td>1</td>\n",
              "      <td>8</td>\n",
              "    </tr>\n",
              "    <tr>\n",
              "      <th>4</th>\n",
              "      <td>32</td>\n",
              "      <td>1627.24</td>\n",
              "      <td>2</td>\n",
              "      <td>1</td>\n",
              "      <td>8</td>\n",
              "    </tr>\n",
              "  </tbody>\n",
              "</table>\n",
              "</div>"
            ],
            "text/plain": [
              "   Idade  Salário Mensal  Grau Instrução  Sexo  Raça Cor\n",
              "0     24          954.00               6     1         8\n",
              "1     25         2500.00               8     1         2\n",
              "2     55         1627.24               2     1         8\n",
              "3     52         1627.24               2     1         8\n",
              "4     32         1627.24               2     1         8"
            ]
          },
          "metadata": {
            "tags": []
          },
          "execution_count": 7
        }
      ]
    },
    {
      "cell_type": "code",
      "metadata": {
        "id": "GXoc1SZhjiZD",
        "colab_type": "code",
        "colab": {
          "base_uri": "https://localhost:8080/",
          "height": 269
        },
        "outputId": "9041550b-f444-462e-f079-746c871b58ed"
      },
      "source": [
        "#Item 2 - Histograma Salario\n",
        "plt.hist(df_desafio['Salário Mensal'], bins=100, range=(0, 10000))\n",
        "plt.show()"
      ],
      "execution_count": 14,
      "outputs": [
        {
          "output_type": "display_data",
          "data": {
            "image/png": "[encoded data removed]",
            "text/plain": [
              "<Figure size 432x288 with 1 Axes>"
            ]
          },
          "metadata": {
            "tags": []
          }
        }
      ]
    },
    {
      "cell_type": "code",
      "metadata": {
        "id": "LZ32kROWXaL6",
        "colab_type": "code",
        "outputId": "961d57d2-4c85-46e0-9385-009aee8178ab",
        "colab": {
          "base_uri": "https://localhost:8080/",
          "height": 286
        }
      },
      "source": [
        "from scipy.stats import norm #https://docs.scipy.org/doc/scipy/reference/\n",
        "import matplotlib.pyplot as plt\n",
        "import statistics\n",
        "std_idade = statistics.stdev(df_desafio['Idade'])\n",
        "std_salario = statistics.stdev(df_desafio['Salário Mensal'])\n",
        "idade = df_desafio['Idade'][:10000]\n",
        "idade\n",
        "print(std_idade)\n",
        "#print(std_salario)\n",
        "\n",
        "\n",
        "plt.plot(idade, norm.pdf(idade,idade.mean(),std_idade), label='Idade')\n",
        "\n",
        "#plt.legend(loc='upper left')\n",
        "\n",
        "plt.show()"
      ],
      "execution_count": 16,
      "outputs": [
        {
          "output_type": "stream",
          "text": [
            "10.960189422200093\n"
          ],
          "name": "stdout"
        },
        {
          "output_type": "display_data",
          "data": {
            "image/png": "[encoded data removed]",
            "text/plain": [
              "<Figure size 432x288 with 1 Axes>"
            ]
          },
          "metadata": {
            "tags": []
          }
        }
      ]
    },
    {
      "cell_type": "code",
      "metadata": {
        "id": "3-y61SepYQoA",
        "colab_type": "code",
        "outputId": "3ff22108-44d1-4dc2-ef52-faa586ddd07b",
        "colab": {
          "base_uri": "https://localhost:8080/",
          "height": 34
        }
      },
      "source": [
        "from scipy.stats import spearmanr\n",
        "spearman = spearmanr(df_desafio['Idade'], df_desafio['Salário Mensal'])\n",
        "spearman[0]"
      ],
      "execution_count": 17,
      "outputs": [
        {
          "output_type": "execute_result",
          "data": {
            "text/plain": [
              "0.296566729675862"
            ]
          },
          "metadata": {
            "tags": []
          },
          "execution_count": 17
        }
      ]
    },
    {
      "cell_type": "code",
      "metadata": {
        "id": "p9NS9h9wZZqx",
        "colab_type": "code",
        "outputId": "b679166e-2245-4b1a-f376-ee8383c196d2",
        "colab": {
          "base_uri": "https://localhost:8080/",
          "height": 34
        }
      },
      "source": [
        "from scipy.stats import kendalltau\n",
        "tau = kendalltau(df_desafio['Idade'], df_desafio['Salário Mensal'])\n",
        "tau[0]"
      ],
      "execution_count": 19,
      "outputs": [
        {
          "output_type": "execute_result",
          "data": {
            "text/plain": [
              "0.20518732381147115"
            ]
          },
          "metadata": {
            "tags": []
          },
          "execution_count": 19
        }
      ]
    },
    {
      "cell_type": "code",
      "metadata": {
        "id": "T2wk1K-Ma7Fg",
        "colab_type": "code",
        "outputId": "ef84319f-4d11-4b07-f281-aefd3f7fb62f",
        "colab": {
          "base_uri": "https://localhost:8080/",
          "height": 286
        }
      },
      "source": [
        "#Item 3 - Histograma Idade\n",
        "df_desafio['Idade'].plot.hist()"
      ],
      "execution_count": 20,
      "outputs": [
        {
          "output_type": "execute_result",
          "data": {
            "text/plain": [
              "<matplotlib.axes._subplots.AxesSubplot at 0x7f23576e9f98>"
            ]
          },
          "metadata": {
            "tags": []
          },
          "execution_count": 20
        },
        {
          "output_type": "display_data",
          "data": {
            "image/png": "[encoded data removed]",
            "text/plain": [
              "<Figure size 432x288 with 1 Axes>"
            ]
          },
          "metadata": {
            "tags": []
          }
        }
      ]
    },
    {
      "cell_type": "code",
      "metadata": {
        "id": "3oMFUpmqjZTx",
        "colab_type": "code",
        "colab": {
          "base_uri": "https://localhost:8080/",
          "height": 300
        },
        "outputId": "fe956cf4-34ac-4514-aa0c-bc1b43ff952b"
      },
      "source": [
        "#Item 3 - Dispersão Idade / Saário Mensal\n",
        "df_desafio.plot.scatter(x='Idade', y='Salário Mensal')"
      ],
      "execution_count": 21,
      "outputs": [
        {
          "output_type": "execute_result",
          "data": {
            "text/plain": [
              "<matplotlib.axes._subplots.AxesSubplot at 0x7f234ee8ffd0>"
            ]
          },
          "metadata": {
            "tags": []
          },
          "execution_count": 21
        },
        {
          "output_type": "display_data",
          "data": {
            "image/png": "[encoded data removed]",
            "text/plain": [
              "<Figure size 432x288 with 1 Axes>"
            ]
          },
          "metadata": {
            "tags": []
          }
        }
      ]
    },
    {
      "cell_type": "code",
      "metadata": {
        "id": "jWRZDBMuqJPB",
        "colab_type": "code",
        "colab": {
          "base_uri": "https://localhost:8080/",
          "height": 286
        },
        "outputId": "22a93681-b862-440e-c34d-e59fde1c8887"
      },
      "source": [
        "#Item 4 -\n",
        "df_desafio['Grau Instrução'].plot.hist()"
      ],
      "execution_count": 26,
      "outputs": [
        {
          "output_type": "execute_result",
          "data": {
            "text/plain": [
              "<matplotlib.axes._subplots.AxesSubplot at 0x7f234ee5d0b8>"
            ]
          },
          "metadata": {
            "tags": []
          },
          "execution_count": 26
        },
        {
          "output_type": "display_data",
          "data": {
            "image/png": "[encoded data removed]",
            "text/plain": [
              "<Figure size 432x288 with 1 Axes>"
            ]
          },
          "metadata": {
            "tags": []
          }
        }
      ]
    },
    {
      "cell_type": "code",
      "metadata": {
        "id": "H4QAeFZ-rD5o",
        "colab_type": "code",
        "colab": {
          "base_uri": "https://localhost:8080/",
          "height": 300
        },
        "outputId": "a809e159-233e-4e3c-db06-9d0c46c0cb23"
      },
      "source": [
        "# Item 4 - Dipersão Grau Instrução e Salario\n",
        "df_desafio.plot.scatter(x='Grau Instrução', y='Salário Mensal')"
      ],
      "execution_count": 27,
      "outputs": [
        {
          "output_type": "execute_result",
          "data": {
            "text/plain": [
              "<matplotlib.axes._subplots.AxesSubplot at 0x7f234ee48710>"
            ]
          },
          "metadata": {
            "tags": []
          },
          "execution_count": 27
        },
        {
          "output_type": "display_data",
          "data": {
            "image/png": "[encoded data removed]",
            "text/plain": [
              "<Figure size 432x288 with 1 Axes>"
            ]
          },
          "metadata": {
            "tags": []
          }
        }
      ]
    },
    {
      "cell_type": "code",
      "metadata": {
        "id": "2ziwhNilrV3w",
        "colab_type": "code",
        "colab": {
          "base_uri": "https://localhost:8080/",
          "height": 286
        },
        "outputId": "8d79a121-0cad-4000-dcb9-c479857c2619"
      },
      "source": [
        "# Item 5 - Histograma Sexo\n",
        "df_desafio['Sexo'].plot.hist()"
      ],
      "execution_count": 28,
      "outputs": [
        {
          "output_type": "execute_result",
          "data": {
            "text/plain": [
              "<matplotlib.axes._subplots.AxesSubplot at 0x7f234edcae48>"
            ]
          },
          "metadata": {
            "tags": []
          },
          "execution_count": 28
        },
        {
          "output_type": "display_data",
          "data": {
            "image/png": "[encoded data removed]",
            "text/plain": [
              "<Figure size 432x288 with 1 Axes>"
            ]
          },
          "metadata": {
            "tags": []
          }
        }
      ]
    },
    {
      "cell_type": "code",
      "metadata": {
        "id": "M4Kvvaeorid6",
        "colab_type": "code",
        "colab": {
          "base_uri": "https://localhost:8080/",
          "height": 300
        },
        "outputId": "05732504-23b3-4b12-8843-f73f64aac3e4"
      },
      "source": [
        "# Item 5 - Dipersão Sexo e Salario\n",
        "df_desafio.plot.scatter(x='Sexo', y='Salário Mensal')"
      ],
      "execution_count": 29,
      "outputs": [
        {
          "output_type": "execute_result",
          "data": {
            "text/plain": [
              "<matplotlib.axes._subplots.AxesSubplot at 0x7f234ed933c8>"
            ]
          },
          "metadata": {
            "tags": []
          },
          "execution_count": 29
        },
        {
          "output_type": "display_data",
          "data": {
            "image/png": "[encoded data removed]",
            "text/plain": [
              "<Figure size 432x288 with 1 Axes>"
            ]
          },
          "metadata": {
            "tags": []
          }
        }
      ]
    },
    {
      "cell_type": "code",
      "metadata": {
        "id": "taijoZppsQIn",
        "colab_type": "code",
        "colab": {
          "base_uri": "https://localhost:8080/",
          "height": 330
        },
        "outputId": "36334104-a2f1-492a-9552-cc7672fadfa2"
      },
      "source": [
        "#Item 5 - Calculando a média Salarial de homens e mulheres\n",
        "Media_Homens = df_desafio.loc[df_desafio['Sexo'] == 1].mean()\n",
        "Media_Mulheres = df_desafio.loc[df_desafio['Sexo'] == 2].mean()\n",
        "\n",
        "print('Salário Médio dos Homens: ',round(Media_Homens['Salário Mensal'],2))\n",
        "print('Salário Médio das Mulheres: ',round(Media_Mulheres['Salário Mensal'],2))\n",
        "\n",
        "\n",
        "Media_Sexo = df_desafio.groupby(['Sexo'])\n",
        "Media_Sexo['Salário Mensal'].mean().plot.bar()\n",
        "\n",
        "\n",
        "#import seaborn as sns\n",
        "#plt.figure(figsize=(15,10))\n",
        "#sns.countplot(df_desafio['Sexo'])\n",
        "#plt.show()\n",
        "\n",
        "\n"
      ],
      "execution_count": 78,
      "outputs": [
        {
          "output_type": "stream",
          "text": [
            "Salário Médio dos Homens:  1717.7\n",
            "Salário Médio das Mulheres:  1541.31\n"
          ],
          "name": "stdout"
        },
        {
          "output_type": "execute_result",
          "data": {
            "text/plain": [
              "<matplotlib.axes._subplots.AxesSubplot at 0x7f234d4d46a0>"
            ]
          },
          "metadata": {
            "tags": []
          },
          "execution_count": 78
        },
        {
          "output_type": "display_data",
          "data": {
            "image/png": "[encoded data removed]",
            "text/plain": [
              "<Figure size 432x288 with 1 Axes>"
            ]
          },
          "metadata": {
            "tags": []
          }
        }
      ]
    },
    {
      "cell_type": "code",
      "metadata": {
        "id": "ZF8UlvpZsVyr",
        "colab_type": "code",
        "colab": {
          "base_uri": "https://localhost:8080/",
          "height": 286
        },
        "outputId": "6e44c8bd-35c5-4759-e0ff-26a60e2a1834"
      },
      "source": [
        "#Item 6 - Histograma Raça Cor\n",
        "df_desafio['Raça Cor'].plot.hist()"
      ],
      "execution_count": 50,
      "outputs": [
        {
          "output_type": "execute_result",
          "data": {
            "text/plain": [
              "<matplotlib.axes._subplots.AxesSubplot at 0x7f234ec44f28>"
            ]
          },
          "metadata": {
            "tags": []
          },
          "execution_count": 50
        },
        {
          "output_type": "display_data",
          "data": {
            "image/png": "[encoded data removed]",
            "text/plain": [
              "<Figure size 432x288 with 1 Axes>"
            ]
          },
          "metadata": {
            "tags": []
          }
        }
      ]
    },
    {
      "cell_type": "code",
      "metadata": {
        "id": "PmYTXM5dvE8A",
        "colab_type": "code",
        "colab": {
          "base_uri": "https://localhost:8080/",
          "height": 300
        },
        "outputId": "795ba752-1c7d-48d6-978a-5bd697990d9d"
      },
      "source": [
        "# Item 6 - Dipersão Raça Cor e Salario\n",
        "df_desafio.plot.scatter(x='Raça Cor', y='Salário Mensal')"
      ],
      "execution_count": 51,
      "outputs": [
        {
          "output_type": "execute_result",
          "data": {
            "text/plain": [
              "<matplotlib.axes._subplots.AxesSubplot at 0x7f234edca908>"
            ]
          },
          "metadata": {
            "tags": []
          },
          "execution_count": 51
        },
        {
          "output_type": "display_data",
          "data": {
            "image/png": "[encoded data removed]",
            "text/plain": [
              "<Figure size 432x288 with 1 Axes>"
            ]
          },
          "metadata": {
            "tags": []
          }
        }
      ]
    },
    {
      "cell_type": "code",
      "metadata": {
        "id": "f6iVX9eFvVj1",
        "colab_type": "code",
        "colab": {
          "base_uri": "https://localhost:8080/",
          "height": 296
        },
        "outputId": "895487a3-34e5-41b7-9c81-6e0dad2af48d"
      },
      "source": [
        "#Item 6 - Calculando a média Salarial Raça Cor\n",
        "Media_RaçaCor = df_desafio.groupby(['Raça Cor'])\n",
        "Media_RaçaCor['Salário Mensal'].mean().plot.bar()\n",
        "\n",
        "#import seaborn as sns\n",
        "#plt.figure(figsize=(20,20))\n",
        "#sns.countplot(Media_RaçaCor['Salário Mensal'].mean())\n",
        "#plt.show()\n",
        "#plt.hist(Media_RaçaCor['Salário Mensal'].mean())"
      ],
      "execution_count": 76,
      "outputs": [
        {
          "output_type": "execute_result",
          "data": {
            "text/plain": [
              "<matplotlib.axes._subplots.AxesSubplot at 0x7f234d68a7b8>"
            ]
          },
          "metadata": {
            "tags": []
          },
          "execution_count": 76
        },
        {
          "output_type": "display_data",
          "data": {
            "image/png": "[encoded data removed]",
            "text/plain": [
              "<Figure size 432x288 with 1 Axes>"
            ]
          },
          "metadata": {
            "tags": []
          }
        }
      ]
    }
  ]
}