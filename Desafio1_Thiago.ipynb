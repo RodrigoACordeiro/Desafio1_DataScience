{
  "nbformat": 4,
  "nbformat_minor": 0,
  "metadata": {
    "kernelspec": {
      "display_name": "Python 3",
      "language": "python",
      "name": "python3"
    },
    "language_info": {
      "codemirror_mode": {
        "name": "ipython",
        "version": 3
      },
      "file_extension": ".py",
      "mimetype": "text/x-python",
      "name": "python",
      "nbconvert_exporter": "python",
      "pygments_lexer": "ipython3",
      "version": "3.6.5"
    },
    "latex_envs": {
      "LaTeX_envs_menu_present": true,
      "autoclose": false,
      "autocomplete": true,
      "bibliofile": "biblio.bib",
      "cite_by": "apalike",
      "current_citInitial": 1,
      "eqLabelWithNumbers": true,
      "eqNumInitial": 1,
      "hotkeys": {
        "equation": "Ctrl-E",
        "itemize": "Ctrl-I"
      },
      "labels_anchors": false,
      "latex_user_defs": false,
      "report_style_numbering": false,
      "user_envs_cfg": false
    },
    "toc": {
      "base_numbering": 1,
      "nav_menu": {},
      "number_sections": true,
      "sideBar": true,
      "skip_h1_title": false,
      "title_cell": "Table of Contents",
      "title_sidebar": "Contents",
      "toc_cell": false,
      "toc_position": {},
      "toc_section_display": true,
      "toc_window_display": false
    },
    "varInspector": {
      "cols": {
        "lenName": 16,
        "lenType": 16,
        "lenVar": 40
      },
      "kernels_config": {
        "python": {
          "delete_cmd_postfix": "",
          "delete_cmd_prefix": "del ",
          "library": "var_list.py",
          "varRefreshCmd": "print(var_dic_list())"
        },
        "r": {
          "delete_cmd_postfix": ") ",
          "delete_cmd_prefix": "rm(",
          "library": "var_list.r",
          "varRefreshCmd": "cat(var_dic_list()) "
        }
      },
      "types_to_exclude": [
        "module",
        "function",
        "builtin_function_or_method",
        "instance",
        "_Feature"
      ],
      "window_display": false
    },
    "colab": {
      "name": "Desafio1_Thiago.ipynb",
      "provenance": [],
      "collapsed_sections": [],
      "include_colab_link": true
    }
  },
  "cells": [
    {
      "cell_type": "markdown",
      "metadata": {
        "id": "view-in-github",
        "colab_type": "text"
      },
      "source": [
        "<a href=\"https://colab.research.google.com/github/tsilverio/Desafio1_DataScience/blob/master/Desafio1_Thiago.ipynb\" target=\"_parent\"><img src=\"https://colab.research.google.com/assets/colab-badge.svg\" alt=\"Open In Colab\"/></a>"
      ]
    },
    {
      "cell_type": "markdown",
      "metadata": {
        "id": "sBYedbFrokT9",
        "colab_type": "text"
      },
      "source": [
        "## Desafio_1\n",
        "\n",
        "Agora vamos praticas tudo o que aprendemos no módulo 1 utilizando dados reais do CAGED (Cadastro Geral de Empregados e Desempregados)\n",
        "\n",
        "<br>\n",
        "<img src=\"img/caged.png\" width='1200' >\n",
        "<br>\n",
        "\n",
        "O Cadastro Geral de Empregados e Desempregados (CAGED) foi criado como registro permanente de admissões e dispensa de empregados, sob o regime da Consolidação das Leis do Trabalho (CLT).\n",
        "\n",
        "É utilizado pelo Programa de Seguro-Desemprego, para conferir os dados referentes aos vínculos trabalhistas, além de outros programas sociais.\n",
        "\n",
        "Este Cadastro serve, ainda, como base para a elaboração de estudos, pesquisas, projetos e programas ligados ao mercado de trabalho, ao mesmo tempo em que subsidia a tomada de decisões para ações governamentais.\n",
        "\n",
        "Visite o site do CAGED através [deste link](http://trabalho.gov.br/trabalhador-caged/2015-09-10-17-46-22) e acesse os dados clicando inicialemente em **ESTATÍSTICA** e depois em **MICRODADOS**, então acesse a base de dados do CAGED e baixe o último arquivo do ano de 2018 **CAGEDEST_122018.7z**. Além disso, baize também o arquivo **CAGEDEST_layout_Atualizado.xls** para o dicionário de dados.\n",
        "\n",
        "Após isso, podemos começar as nossas análises:\n",
        "\n",
        "1. **Importar as bibliotecas** e ler os dados: Importe as bibliotecas necessárias e verifique a cara dos dados e suas informações básicas dos conteúdos das colunas.\n",
        "\n",
        "2. Limpeza e transformação da variável alvo **Salário Mensal**: verifique o tipo de dado da variával Salário Mensal, faça as devidas mudanças, plote a distribuição e dispersão dos dados e aplique a transformação matemática para a correção da assimetria.\n",
        "\n",
        "3. Verificação dos dados da variável **Idade**: verifique os dados da variável Idade, plote uma distribuição e uma dispersão, calcule a correlação com a variável salário mensal e interprete os resultados.\n",
        "\n",
        "4. Verificação dos dados da variável **Grau de Instrução**: verifique os dados da variável Grau de instrução, plote uma distribuição e uma dispersão, calcule a correlação com a variável salário mensal e interprete os resultados.\n",
        "\n",
        "5. Verificação dos dados da variável **Sexo**: verifique os dados da variável Sexo, plote uma distribuição e uma dispersão, calcule a correlação com a variável salário mensal e interprete os resultados. Depois disso, faça uma inferência estatística pra verificar se os homens ganham mais que as mulheres.\n",
        "\n",
        "6. Verificação dos dados da variável **Raça Cor**: verifique os dados da variável Raça Cor, plote uma distribuição e uma dispersão, calcule a correlação com a variável salário mensal e interprete os resultados. Depois disso, faça uma inferência estatística pra verificar se os brancos ganham mais que os outros grupos étnicos.\n",
        "\n",
        "7. Elaborar uma hipótese para ser rejeitada ou não-rejeitada por você de acordo com o resultado da sua análise, através da utilização dos dados do CAJED considerando as suas colunas.\n",
        "\n",
        "8. Avançado: plote **todas as correlações das variávies numéricas entre si**. Sugestão busque uma biblioteca chamada SEABORN e plote um heatmap com as correlações.\n",
        "\n",
        "<!--9. Avançado: Plote uma **regressão múltipla**.-->\n"
      ]
    },
    {
      "cell_type": "code",
      "metadata": {
        "id": "fjAgoDGbokT-",
        "colab_type": "code",
        "colab": {}
      },
      "source": [
        "import pandas as pd\n",
        "import numpy as np\n",
        "import re\n",
        "import seaborn as sns\n",
        "import matplotlib.pyplot as plt\n",
        "\n",
        "\n",
        "import warnings\n",
        "warnings.filterwarnings(\"ignore\")"
      ],
      "execution_count": 0,
      "outputs": []
    },
    {
      "cell_type": "code",
      "metadata": {
        "id": "fwKkeoOMsKTm",
        "colab_type": "code",
        "outputId": "fa28aaf7-dbb0-47a5-8c41-3eeeb44da4f2",
        "colab": {
          "base_uri": "https://localhost:8080/",
          "height": 122
        }
      },
      "source": [
        "from google.colab import drive \n",
        "drive.mount('/content/gdrive')"
      ],
      "execution_count": 3,
      "outputs": [
        {
          "output_type": "stream",
          "text": [
            "Go to this URL in a browser: https://accounts.google.com/o/oauth2/auth?client_id=947318989803-6bn6qk8qdgf4n4g3pfee6491hc0brc4i.apps.googleusercontent.com&redirect_uri=urn%3Aietf%3Awg%3Aoauth%3A2.0%3Aoob&scope=email%20https%3A%2F%2Fwww.googleapis.com%2Fauth%2Fdocs.test%20https%3A%2F%2Fwww.googleapis.com%2Fauth%2Fdrive%20https%3A%2F%2Fwww.googleapis.com%2Fauth%2Fdrive.photos.readonly%20https%3A%2F%2Fwww.googleapis.com%2Fauth%2Fpeopleapi.readonly&response_type=code\n",
            "\n",
            "Enter your authorization code:\n",
            "··········\n",
            "Mounted at /content/gdrive\n"
          ],
          "name": "stdout"
        }
      ]
    },
    {
      "cell_type": "code",
      "metadata": {
        "id": "WE1JHeYAsOAA",
        "colab_type": "code",
        "colab": {}
      },
      "source": [
        "import pandas as pd \n",
        "df=pd.read_csv('gdrive/My Drive/Desafio 1-20190910/CAGEDEST_122018.txt', encoding='latin-1', delimiter = ';')"
      ],
      "execution_count": 0,
      "outputs": []
    },
    {
      "cell_type": "code",
      "metadata": {
        "id": "bhCCT2ngtnOJ",
        "colab_type": "code",
        "outputId": "4f8695f9-b338-4bed-bbd6-439449cb0331",
        "colab": {
          "base_uri": "https://localhost:8080/",
          "height": 275
        }
      },
      "source": [
        "df.head()"
      ],
      "execution_count": 4,
      "outputs": [
        {
          "output_type": "execute_result",
          "data": {
            "text/html": [
              "<div>\n",
              "<style scoped>\n",
              "    .dataframe tbody tr th:only-of-type {\n",
              "        vertical-align: middle;\n",
              "    }\n",
              "\n",
              "    .dataframe tbody tr th {\n",
              "        vertical-align: top;\n",
              "    }\n",
              "\n",
              "    .dataframe thead th {\n",
              "        text-align: right;\n",
              "    }\n",
              "</style>\n",
              "<table border=\"1\" class=\"dataframe\">\n",
              "  <thead>\n",
              "    <tr style=\"text-align: right;\">\n",
              "      <th></th>\n",
              "      <th>Admitidos/Desligados</th>\n",
              "      <th>Competência Declarada</th>\n",
              "      <th>Município</th>\n",
              "      <th>Ano Declarado</th>\n",
              "      <th>CBO 2002 Ocupação</th>\n",
              "      <th>CNAE 1.0 Classe</th>\n",
              "      <th>CNAE 2.0 Classe</th>\n",
              "      <th>CNAE 2.0 Subclas</th>\n",
              "      <th>Faixa Empr Início Jan</th>\n",
              "      <th>Grau Instrução</th>\n",
              "      <th>Qtd Hora Contrat</th>\n",
              "      <th>IBGE Subsetor</th>\n",
              "      <th>Idade</th>\n",
              "      <th>Ind Aprendiz</th>\n",
              "      <th>Ind Portador Defic</th>\n",
              "      <th>Raça Cor</th>\n",
              "      <th>Salário Mensal</th>\n",
              "      <th>Saldo Mov</th>\n",
              "      <th>Sexo</th>\n",
              "      <th>Tempo Emprego</th>\n",
              "      <th>Tipo Estab</th>\n",
              "      <th>Tipo Defic</th>\n",
              "      <th>Tipo Mov Desagregado</th>\n",
              "      <th>UF</th>\n",
              "      <th>Bairros SP</th>\n",
              "      <th>Bairros Fortaleza</th>\n",
              "      <th>Bairros RJ</th>\n",
              "      <th>Distritos SP</th>\n",
              "      <th>Regiões Adm DF</th>\n",
              "      <th>Mesorregião</th>\n",
              "      <th>Microrregião</th>\n",
              "      <th>Região Adm RJ</th>\n",
              "      <th>Região Adm SP</th>\n",
              "      <th>Região Corede</th>\n",
              "      <th>Região Corede 04</th>\n",
              "      <th>Região Gov SP</th>\n",
              "      <th>Região Senac PR</th>\n",
              "      <th>Região Senai PR</th>\n",
              "      <th>Região Senai SP</th>\n",
              "      <th>Sub-Região Senai PR</th>\n",
              "      <th>Ind Trab Parcial</th>\n",
              "      <th>Ind Trab Intermitente</th>\n",
              "    </tr>\n",
              "  </thead>\n",
              "  <tbody>\n",
              "    <tr>\n",
              "      <th>0</th>\n",
              "      <td>1</td>\n",
              "      <td>201812</td>\n",
              "      <td>500215</td>\n",
              "      <td>2018</td>\n",
              "      <td>711210</td>\n",
              "      <td>1619</td>\n",
              "      <td>1610</td>\n",
              "      <td>161003</td>\n",
              "      <td>1</td>\n",
              "      <td>6</td>\n",
              "      <td>40</td>\n",
              "      <td>25</td>\n",
              "      <td>24</td>\n",
              "      <td>0</td>\n",
              "      <td>0</td>\n",
              "      <td>8</td>\n",
              "      <td>000954,00</td>\n",
              "      <td>1</td>\n",
              "      <td>1</td>\n",
              "      <td>0000,0</td>\n",
              "      <td>1</td>\n",
              "      <td>0</td>\n",
              "      <td>1</td>\n",
              "      <td>50</td>\n",
              "      <td>{ñ c</td>\n",
              "      <td>{ñ c</td>\n",
              "      <td>{ñ c</td>\n",
              "      <td>{ñ c</td>\n",
              "      <td>0</td>\n",
              "      <td>5004</td>\n",
              "      <td>50009</td>\n",
              "      <td>{ñ</td>\n",
              "      <td>999</td>\n",
              "      <td>{ñ</td>\n",
              "      <td>99</td>\n",
              "      <td>999</td>\n",
              "      <td>99</td>\n",
              "      <td>{ñ</td>\n",
              "      <td>999</td>\n",
              "      <td>99</td>\n",
              "      <td>0</td>\n",
              "      <td>0</td>\n",
              "    </tr>\n",
              "    <tr>\n",
              "      <th>1</th>\n",
              "      <td>1</td>\n",
              "      <td>201812</td>\n",
              "      <td>500710</td>\n",
              "      <td>2018</td>\n",
              "      <td>321210</td>\n",
              "      <td>2119</td>\n",
              "      <td>2101</td>\n",
              "      <td>210101</td>\n",
              "      <td>1</td>\n",
              "      <td>8</td>\n",
              "      <td>44</td>\n",
              "      <td>25</td>\n",
              "      <td>25</td>\n",
              "      <td>0</td>\n",
              "      <td>0</td>\n",
              "      <td>2</td>\n",
              "      <td>002500,00</td>\n",
              "      <td>1</td>\n",
              "      <td>1</td>\n",
              "      <td>0000,0</td>\n",
              "      <td>1</td>\n",
              "      <td>0</td>\n",
              "      <td>1</td>\n",
              "      <td>50</td>\n",
              "      <td>{ñ c</td>\n",
              "      <td>{ñ c</td>\n",
              "      <td>{ñ c</td>\n",
              "      <td>{ñ c</td>\n",
              "      <td>0</td>\n",
              "      <td>5003</td>\n",
              "      <td>50007</td>\n",
              "      <td>{ñ</td>\n",
              "      <td>999</td>\n",
              "      <td>{ñ</td>\n",
              "      <td>99</td>\n",
              "      <td>999</td>\n",
              "      <td>99</td>\n",
              "      <td>{ñ</td>\n",
              "      <td>999</td>\n",
              "      <td>99</td>\n",
              "      <td>0</td>\n",
              "      <td>0</td>\n",
              "    </tr>\n",
              "    <tr>\n",
              "      <th>2</th>\n",
              "      <td>1</td>\n",
              "      <td>201812</td>\n",
              "      <td>500460</td>\n",
              "      <td>2018</td>\n",
              "      <td>623110</td>\n",
              "      <td>1619</td>\n",
              "      <td>1610</td>\n",
              "      <td>161003</td>\n",
              "      <td>1</td>\n",
              "      <td>2</td>\n",
              "      <td>1</td>\n",
              "      <td>25</td>\n",
              "      <td>55</td>\n",
              "      <td>0</td>\n",
              "      <td>0</td>\n",
              "      <td>8</td>\n",
              "      <td>000000,00</td>\n",
              "      <td>1</td>\n",
              "      <td>1</td>\n",
              "      <td>0000,0</td>\n",
              "      <td>1</td>\n",
              "      <td>0</td>\n",
              "      <td>1</td>\n",
              "      <td>50</td>\n",
              "      <td>{ñ c</td>\n",
              "      <td>{ñ c</td>\n",
              "      <td>{ñ c</td>\n",
              "      <td>{ñ c</td>\n",
              "      <td>0</td>\n",
              "      <td>5004</td>\n",
              "      <td>50011</td>\n",
              "      <td>{ñ</td>\n",
              "      <td>999</td>\n",
              "      <td>{ñ</td>\n",
              "      <td>99</td>\n",
              "      <td>999</td>\n",
              "      <td>99</td>\n",
              "      <td>{ñ</td>\n",
              "      <td>999</td>\n",
              "      <td>99</td>\n",
              "      <td>0</td>\n",
              "      <td>1</td>\n",
              "    </tr>\n",
              "    <tr>\n",
              "      <th>3</th>\n",
              "      <td>1</td>\n",
              "      <td>201812</td>\n",
              "      <td>500460</td>\n",
              "      <td>2018</td>\n",
              "      <td>623110</td>\n",
              "      <td>1619</td>\n",
              "      <td>1610</td>\n",
              "      <td>161003</td>\n",
              "      <td>1</td>\n",
              "      <td>2</td>\n",
              "      <td>1</td>\n",
              "      <td>25</td>\n",
              "      <td>52</td>\n",
              "      <td>0</td>\n",
              "      <td>0</td>\n",
              "      <td>8</td>\n",
              "      <td>000000,00</td>\n",
              "      <td>1</td>\n",
              "      <td>1</td>\n",
              "      <td>0000,0</td>\n",
              "      <td>1</td>\n",
              "      <td>0</td>\n",
              "      <td>1</td>\n",
              "      <td>50</td>\n",
              "      <td>{ñ c</td>\n",
              "      <td>{ñ c</td>\n",
              "      <td>{ñ c</td>\n",
              "      <td>{ñ c</td>\n",
              "      <td>0</td>\n",
              "      <td>5004</td>\n",
              "      <td>50011</td>\n",
              "      <td>{ñ</td>\n",
              "      <td>999</td>\n",
              "      <td>{ñ</td>\n",
              "      <td>99</td>\n",
              "      <td>999</td>\n",
              "      <td>99</td>\n",
              "      <td>{ñ</td>\n",
              "      <td>999</td>\n",
              "      <td>99</td>\n",
              "      <td>0</td>\n",
              "      <td>1</td>\n",
              "    </tr>\n",
              "    <tr>\n",
              "      <th>4</th>\n",
              "      <td>1</td>\n",
              "      <td>201812</td>\n",
              "      <td>500460</td>\n",
              "      <td>2018</td>\n",
              "      <td>623110</td>\n",
              "      <td>1619</td>\n",
              "      <td>1610</td>\n",
              "      <td>161003</td>\n",
              "      <td>1</td>\n",
              "      <td>2</td>\n",
              "      <td>1</td>\n",
              "      <td>25</td>\n",
              "      <td>32</td>\n",
              "      <td>0</td>\n",
              "      <td>0</td>\n",
              "      <td>8</td>\n",
              "      <td>000000,00</td>\n",
              "      <td>1</td>\n",
              "      <td>1</td>\n",
              "      <td>0000,0</td>\n",
              "      <td>1</td>\n",
              "      <td>0</td>\n",
              "      <td>1</td>\n",
              "      <td>50</td>\n",
              "      <td>{ñ c</td>\n",
              "      <td>{ñ c</td>\n",
              "      <td>{ñ c</td>\n",
              "      <td>{ñ c</td>\n",
              "      <td>0</td>\n",
              "      <td>5004</td>\n",
              "      <td>50011</td>\n",
              "      <td>{ñ</td>\n",
              "      <td>999</td>\n",
              "      <td>{ñ</td>\n",
              "      <td>99</td>\n",
              "      <td>999</td>\n",
              "      <td>99</td>\n",
              "      <td>{ñ</td>\n",
              "      <td>999</td>\n",
              "      <td>99</td>\n",
              "      <td>0</td>\n",
              "      <td>1</td>\n",
              "    </tr>\n",
              "  </tbody>\n",
              "</table>\n",
              "</div>"
            ],
            "text/plain": [
              "   Admitidos/Desligados  ...  Ind Trab Intermitente\n",
              "0                     1  ...                      0\n",
              "1                     1  ...                      0\n",
              "2                     1  ...                      1\n",
              "3                     1  ...                      1\n",
              "4                     1  ...                      1\n",
              "\n",
              "[5 rows x 42 columns]"
            ]
          },
          "metadata": {
            "tags": []
          },
          "execution_count": 4
        }
      ]
    },
    {
      "cell_type": "markdown",
      "metadata": {
        "id": "UAySJl1fQLgc",
        "colab_type": "text"
      },
      "source": [
        ""
      ]
    },
    {
      "cell_type": "code",
      "metadata": {
        "id": "ya3LJzLh15MN",
        "colab_type": "code",
        "outputId": "136f4831-bec3-4afa-8465-b603223b0bf7",
        "colab": {
          "base_uri": "https://localhost:8080/",
          "height": 34
        }
      },
      "source": [
        "df.shape"
      ],
      "execution_count": 5,
      "outputs": [
        {
          "output_type": "execute_result",
          "data": {
            "text/plain": [
              "(2256752, 42)"
            ]
          },
          "metadata": {
            "tags": []
          },
          "execution_count": 5
        }
      ]
    },
    {
      "cell_type": "code",
      "metadata": {
        "id": "gzI3kti5sjo9",
        "colab_type": "code",
        "outputId": "c9357eb4-c7d8-41a2-def1-3a27157e1aa7",
        "colab": {
          "base_uri": "https://localhost:8080/",
          "height": 816
        }
      },
      "source": [
        "df.info()"
      ],
      "execution_count": 6,
      "outputs": [
        {
          "output_type": "stream",
          "text": [
            "<class 'pandas.core.frame.DataFrame'>\n",
            "RangeIndex: 2256752 entries, 0 to 2256751\n",
            "Data columns (total 42 columns):\n",
            "Admitidos/Desligados     int64\n",
            "Competência Declarada    int64\n",
            "Município                int64\n",
            "Ano Declarado            int64\n",
            "CBO 2002 Ocupação        int64\n",
            "CNAE 1.0 Classe          int64\n",
            "CNAE 2.0 Classe          int64\n",
            "CNAE 2.0 Subclas         int64\n",
            "Faixa Empr Início Jan    int64\n",
            "Grau Instrução           int64\n",
            "Qtd Hora Contrat         int64\n",
            "IBGE Subsetor            int64\n",
            "Idade                    int64\n",
            "Ind Aprendiz             int64\n",
            "Ind Portador Defic       int64\n",
            "Raça Cor                 int64\n",
            "Salário Mensal           object\n",
            "Saldo Mov                int64\n",
            "Sexo                     int64\n",
            "Tempo Emprego            object\n",
            "Tipo Estab               int64\n",
            "Tipo Defic               int64\n",
            "Tipo Mov Desagregado     int64\n",
            "UF                       int64\n",
            "Bairros SP               object\n",
            "Bairros Fortaleza        object\n",
            "Bairros RJ               object\n",
            "Distritos SP             object\n",
            "Regiões Adm DF           int64\n",
            "Mesorregião              int64\n",
            "Microrregião             int64\n",
            "Região Adm RJ            object\n",
            "Região Adm SP            object\n",
            "Região Corede            object\n",
            "Região Corede 04         object\n",
            "Região Gov SP            object\n",
            "Região Senac PR          object\n",
            "Região Senai PR          object\n",
            "Região Senai SP          object\n",
            "Sub-Região Senai PR      object\n",
            "Ind Trab Parcial         int64\n",
            "Ind Trab Intermitente    int64\n",
            "dtypes: int64(27), object(15)\n",
            "memory usage: 723.1+ MB\n"
          ],
          "name": "stdout"
        }
      ]
    },
    {
      "cell_type": "code",
      "metadata": {
        "id": "I8GgvjN9jiPs",
        "colab_type": "code",
        "colab": {
          "base_uri": "https://localhost:8080/",
          "height": 204
        },
        "outputId": "a6342d2c-d00b-4288-d1d1-44f9f06cf54b"
      },
      "source": [
        "df['Salário Mensal'] = df['Salário Mensal'].map(lambda x: float(re.sub(r',', '.', x)))\n",
        "df_desafio = df[['Idade','Salário Mensal','Grau Instrução','Sexo', 'Raça Cor']]\n",
        "#df_desafio['Salário Mensal'] = df_desafio['Salário Mensal'].map(lambda x: float(re.sub(r',', '.', x)))\n",
        "#df_desafio.loc[df_desafio['Salário Mensal'] == 0, 'Salário Mensal'] = round(df_desafio['Salário Mensal'].mean(),2)\n",
        "df_desafio['Salário Mensal'] = df_desafio.loc[df_desafio['Salário Mensal'] != 0, 'Salário Mensal']\n",
        "df_desafio = df_desafio.dropna()\n",
        "df_desafio.head()"
      ],
      "execution_count": 5,
      "outputs": [
        {
          "output_type": "execute_result",
          "data": {
            "text/html": [
              "<div>\n",
              "<style scoped>\n",
              "    .dataframe tbody tr th:only-of-type {\n",
              "        vertical-align: middle;\n",
              "    }\n",
              "\n",
              "    .dataframe tbody tr th {\n",
              "        vertical-align: top;\n",
              "    }\n",
              "\n",
              "    .dataframe thead th {\n",
              "        text-align: right;\n",
              "    }\n",
              "</style>\n",
              "<table border=\"1\" class=\"dataframe\">\n",
              "  <thead>\n",
              "    <tr style=\"text-align: right;\">\n",
              "      <th></th>\n",
              "      <th>Idade</th>\n",
              "      <th>Salário Mensal</th>\n",
              "      <th>Grau Instrução</th>\n",
              "      <th>Sexo</th>\n",
              "      <th>Raça Cor</th>\n",
              "    </tr>\n",
              "  </thead>\n",
              "  <tbody>\n",
              "    <tr>\n",
              "      <th>0</th>\n",
              "      <td>24</td>\n",
              "      <td>954.0</td>\n",
              "      <td>6</td>\n",
              "      <td>1</td>\n",
              "      <td>8</td>\n",
              "    </tr>\n",
              "    <tr>\n",
              "      <th>1</th>\n",
              "      <td>25</td>\n",
              "      <td>2500.0</td>\n",
              "      <td>8</td>\n",
              "      <td>1</td>\n",
              "      <td>2</td>\n",
              "    </tr>\n",
              "    <tr>\n",
              "      <th>7</th>\n",
              "      <td>50</td>\n",
              "      <td>1061.0</td>\n",
              "      <td>4</td>\n",
              "      <td>2</td>\n",
              "      <td>2</td>\n",
              "    </tr>\n",
              "    <tr>\n",
              "      <th>11</th>\n",
              "      <td>22</td>\n",
              "      <td>1061.0</td>\n",
              "      <td>7</td>\n",
              "      <td>1</td>\n",
              "      <td>8</td>\n",
              "    </tr>\n",
              "    <tr>\n",
              "      <th>12</th>\n",
              "      <td>37</td>\n",
              "      <td>1061.0</td>\n",
              "      <td>7</td>\n",
              "      <td>1</td>\n",
              "      <td>2</td>\n",
              "    </tr>\n",
              "  </tbody>\n",
              "</table>\n",
              "</div>"
            ],
            "text/plain": [
              "    Idade  Salário Mensal  Grau Instrução  Sexo  Raça Cor\n",
              "0      24           954.0               6     1         8\n",
              "1      25          2500.0               8     1         2\n",
              "7      50          1061.0               4     2         2\n",
              "11     22          1061.0               7     1         8\n",
              "12     37          1061.0               7     1         2"
            ]
          },
          "metadata": {
            "tags": []
          },
          "execution_count": 5
        }
      ]
    },
    {
      "cell_type": "code",
      "metadata": {
        "id": "Yia7eDjlk3Xz",
        "colab_type": "code",
        "colab": {
          "base_uri": "https://localhost:8080/",
          "height": 187
        },
        "outputId": "1460c0ef-74a5-41bf-aad9-2946884984b5"
      },
      "source": [
        "df_desafio.info()"
      ],
      "execution_count": 16,
      "outputs": [
        {
          "output_type": "stream",
          "text": [
            "<class 'pandas.core.frame.DataFrame'>\n",
            "Int64Index: 2232507 entries, 0 to 2256751\n",
            "Data columns (total 5 columns):\n",
            "Idade             int64\n",
            "Salário Mensal    float64\n",
            "Grau Instrução    int64\n",
            "Sexo              int64\n",
            "Raça Cor          int64\n",
            "dtypes: float64(1), int64(4)\n",
            "memory usage: 102.2 MB\n"
          ],
          "name": "stdout"
        }
      ]
    },
    {
      "cell_type": "code",
      "metadata": {
        "id": "GXoc1SZhjiZD",
        "colab_type": "code",
        "colab": {
          "base_uri": "https://localhost:8080/",
          "height": 269
        },
        "outputId": "f4fcd335-3b03-4a36-e80a-1b85b3fd3a63"
      },
      "source": [
        "#Item 2 - Histograma Salario\n",
        "plt.hist(df_desafio['Salário Mensal'], bins=100, range=(0, 10000))\n",
        "plt.show()"
      ],
      "execution_count": 6,
      "outputs": [
        {
          "output_type": "display_data",
          "data": {
            "image/png": "[encoded data removed]",
            "text/plain": [
              "<Figure size 432x288 with 1 Axes>"
            ]
          },
          "metadata": {
            "tags": []
          }
        }
      ]
    },
    {
      "cell_type": "code",
      "metadata": {
        "id": "LZ32kROWXaL6",
        "colab_type": "code",
        "outputId": "7840bf95-446c-4f07-dfad-4c18fd21c679",
        "colab": {
          "base_uri": "https://localhost:8080/",
          "height": 286
        }
      },
      "source": [
        "from scipy.stats import norm #https://docs.scipy.org/doc/scipy/reference/\n",
        "import matplotlib.pyplot as plt\n",
        "import statistics\n",
        "std_idade = statistics.stdev(df_desafio['Idade'])\n",
        "std_salario = statistics.stdev(df_desafio['Salário Mensal'])\n",
        "idade = df_desafio['Idade'][:10000]\n",
        "idade\n",
        "print(std_idade)\n",
        "#print(std_salario)\n",
        "\n",
        "\n",
        "plt.plot(idade, norm.pdf(idade,idade.mean(),std_idade), label='Idade')\n",
        "\n",
        "#plt.legend(loc='upper left')\n",
        "\n",
        "plt.show()"
      ],
      "execution_count": 7,
      "outputs": [
        {
          "output_type": "stream",
          "text": [
            "10.950159873596137\n"
          ],
          "name": "stdout"
        },
        {
          "output_type": "display_data",
          "data": {
            "image/png": "[encoded data removed]",
            "text/plain": [
              "<Figure size 432x288 with 1 Axes>"
            ]
          },
          "metadata": {
            "tags": []
          }
        }
      ]
    },
    {
      "cell_type": "code",
      "metadata": {
        "id": "3-y61SepYQoA",
        "colab_type": "code",
        "outputId": "709fbce5-d196-4c41-e739-9dcad8bc6b91",
        "colab": {
          "base_uri": "https://localhost:8080/",
          "height": 34
        }
      },
      "source": [
        "from scipy.stats import spearmanr\n",
        "spearman = spearmanr(df_desafio['Idade'], df_desafio['Salário Mensal'])\n",
        "spearman[0]"
      ],
      "execution_count": 8,
      "outputs": [
        {
          "output_type": "execute_result",
          "data": {
            "text/plain": [
              "0.29834210045053"
            ]
          },
          "metadata": {
            "tags": []
          },
          "execution_count": 8
        }
      ]
    },
    {
      "cell_type": "code",
      "metadata": {
        "id": "p9NS9h9wZZqx",
        "colab_type": "code",
        "outputId": "a71bba8a-ef35-4d15-bdce-c67e9c9da079",
        "colab": {
          "base_uri": "https://localhost:8080/",
          "height": 34
        }
      },
      "source": [
        "from scipy.stats import kendalltau\n",
        "tau = kendalltau(df_desafio['Idade'], df_desafio['Salário Mensal'])\n",
        "tau[0]"
      ],
      "execution_count": 9,
      "outputs": [
        {
          "output_type": "execute_result",
          "data": {
            "text/plain": [
              "0.20651539311813297"
            ]
          },
          "metadata": {
            "tags": []
          },
          "execution_count": 9
        }
      ]
    },
    {
      "cell_type": "code",
      "metadata": {
        "id": "T2wk1K-Ma7Fg",
        "colab_type": "code",
        "outputId": "4bf1e2ed-b791-4c7b-f087-b2a1bb0da5d7",
        "colab": {
          "base_uri": "https://localhost:8080/",
          "height": 286
        }
      },
      "source": [
        "#Item 3 - Histograma Idade\n",
        "df_desafio['Idade'].plot.hist()"
      ],
      "execution_count": 10,
      "outputs": [
        {
          "output_type": "execute_result",
          "data": {
            "text/plain": [
              "<matplotlib.axes._subplots.AxesSubplot at 0x7fb4828ce080>"
            ]
          },
          "metadata": {
            "tags": []
          },
          "execution_count": 10
        },
        {
          "output_type": "display_data",
          "data": {
            "image/png": "[encoded data removed]",
            "text/plain": [
              "<Figure size 432x288 with 1 Axes>"
            ]
          },
          "metadata": {
            "tags": []
          }
        }
      ]
    },
    {
      "cell_type": "code",
      "metadata": {
        "id": "3oMFUpmqjZTx",
        "colab_type": "code",
        "colab": {
          "base_uri": "https://localhost:8080/",
          "height": 300
        },
        "outputId": "c1db4472-2433-48c9-cac2-50e7ef2015af"
      },
      "source": [
        "#Item 3 - Dispersão Idade / Saário Mensal\n",
        "df_desafio.plot.scatter(x='Idade', y='Salário Mensal')"
      ],
      "execution_count": 11,
      "outputs": [
        {
          "output_type": "execute_result",
          "data": {
            "text/plain": [
              "<matplotlib.axes._subplots.AxesSubplot at 0x7fb485126390>"
            ]
          },
          "metadata": {
            "tags": []
          },
          "execution_count": 11
        },
        {
          "output_type": "display_data",
          "data": {
            "image/png": "[encoded data removed]",
            "text/plain": [
              "<Figure size 432x288 with 1 Axes>"
            ]
          },
          "metadata": {
            "tags": []
          }
        }
      ]
    },
    {
      "cell_type": "code",
      "metadata": {
        "id": "jWRZDBMuqJPB",
        "colab_type": "code",
        "colab": {
          "base_uri": "https://localhost:8080/",
          "height": 286
        },
        "outputId": "1d950ed3-b3bd-4143-f0c1-25dd9278b4ee"
      },
      "source": [
        "#Item 4 -\n",
        "df_desafio['Grau Instrução'].plot.hist()"
      ],
      "execution_count": 12,
      "outputs": [
        {
          "output_type": "execute_result",
          "data": {
            "text/plain": [
              "<matplotlib.axes._subplots.AxesSubplot at 0x7fb4827a2d68>"
            ]
          },
          "metadata": {
            "tags": []
          },
          "execution_count": 12
        },
        {
          "output_type": "display_data",
          "data": {
            "image/png": "[encoded data removed]",
            "text/plain": [
              "<Figure size 432x288 with 1 Axes>"
            ]
          },
          "metadata": {
            "tags": []
          }
        }
      ]
    },
    {
      "cell_type": "code",
      "metadata": {
        "id": "H4QAeFZ-rD5o",
        "colab_type": "code",
        "colab": {
          "base_uri": "https://localhost:8080/",
          "height": 300
        },
        "outputId": "f729e101-2daa-4097-c2e7-ccaf36abeb41"
      },
      "source": [
        "# Item 4 - Dipersão Grau Instrução e Salario\n",
        "df_desafio.plot.scatter(x='Grau Instrução', y='Salário Mensal')"
      ],
      "execution_count": 13,
      "outputs": [
        {
          "output_type": "execute_result",
          "data": {
            "text/plain": [
              "<matplotlib.axes._subplots.AxesSubplot at 0x7fb48270ffd0>"
            ]
          },
          "metadata": {
            "tags": []
          },
          "execution_count": 13
        },
        {
          "output_type": "display_data",
          "data": {
            "image/png": "[encoded data removed]",
            "text/plain": [
              "<Figure size 432x288 with 1 Axes>"
            ]
          },
          "metadata": {
            "tags": []
          }
        }
      ]
    },
    {
      "cell_type": "code",
      "metadata": {
        "id": "2ziwhNilrV3w",
        "colab_type": "code",
        "colab": {
          "base_uri": "https://localhost:8080/",
          "height": 286
        },
        "outputId": "ca4ba2c9-c53e-452d-82d1-db211821f262"
      },
      "source": [
        "# Item 5 - Histograma Sexo\n",
        "df_desafio['Sexo'].plot.hist()"
      ],
      "execution_count": 14,
      "outputs": [
        {
          "output_type": "execute_result",
          "data": {
            "text/plain": [
              "<matplotlib.axes._subplots.AxesSubplot at 0x7fb4826f8b00>"
            ]
          },
          "metadata": {
            "tags": []
          },
          "execution_count": 14
        },
        {
          "output_type": "display_data",
          "data": {
            "image/png": "[encoded data removed]",
            "text/plain": [
              "<Figure size 432x288 with 1 Axes>"
            ]
          },
          "metadata": {
            "tags": []
          }
        }
      ]
    },
    {
      "cell_type": "code",
      "metadata": {
        "id": "M4Kvvaeorid6",
        "colab_type": "code",
        "colab": {
          "base_uri": "https://localhost:8080/",
          "height": 300
        },
        "outputId": "05732504-23b3-4b12-8843-f73f64aac3e4"
      },
      "source": [
        "# Item 5 - Dipersão Sexo e Salario\n",
        "df_desafio.plot.scatter(x='Sexo', y='Salário Mensal')"
      ],
      "execution_count": 29,
      "outputs": [
        {
          "output_type": "execute_result",
          "data": {
            "text/plain": [
              "<matplotlib.axes._subplots.AxesSubplot at 0x7f234ed933c8>"
            ]
          },
          "metadata": {
            "tags": []
          },
          "execution_count": 29
        },
        {
          "output_type": "display_data",
          "data": {
            "image/png": "[encoded data removed]",
            "text/plain": [
              "<Figure size 432x288 with 1 Axes>"
            ]
          },
          "metadata": {
            "tags": []
          }
        }
      ]
    },
    {
      "cell_type": "code",
      "metadata": {
        "id": "taijoZppsQIn",
        "colab_type": "code",
        "colab": {
          "base_uri": "https://localhost:8080/",
          "height": 330
        },
        "outputId": "a7c5eb8a-6e35-4d89-9edd-97b12f4f6342"
      },
      "source": [
        "#Item 5 - Calculando a média Salarial de homens e mulheres\n",
        "Media_Homens = df_desafio.loc[df_desafio['Sexo'] == 1].mean()\n",
        "Media_Mulheres = df_desafio.loc[df_desafio['Sexo'] == 2].mean()\n",
        "\n",
        "print('Salário Médio dos Homens: ',round(Media_Homens['Salário Mensal'],2))\n",
        "print('Salário Médio das Mulheres: ',round(Media_Mulheres['Salário Mensal'],2))\n",
        "\n",
        "\n",
        "Media_Sexo = df_desafio.groupby(['Sexo'])\n",
        "Media_Sexo['Salário Mensal'].mean().plot.bar()\n",
        "\n",
        "\n",
        "#import seaborn as sns\n",
        "#plt.figure(figsize=(15,10))\n",
        "#sns.countplot(df_desafio['Sexo'])\n",
        "#plt.show()\n",
        "\n",
        "\n"
      ],
      "execution_count": 20,
      "outputs": [
        {
          "output_type": "stream",
          "text": [
            "Salário Médio dos Homens:  1718.59\n",
            "Salário Médio das Mulheres:  1540.24\n"
          ],
          "name": "stdout"
        },
        {
          "output_type": "execute_result",
          "data": {
            "text/plain": [
              "<matplotlib.axes._subplots.AxesSubplot at 0x7fb482375d68>"
            ]
          },
          "metadata": {
            "tags": []
          },
          "execution_count": 20
        },
        {
          "output_type": "display_data",
          "data": {
            "image/png": "[encoded data removed]",
            "text/plain": [
              "<Figure size 432x288 with 1 Axes>"
            ]
          },
          "metadata": {
            "tags": []
          }
        }
      ]
    },
    {
      "cell_type": "code",
      "metadata": {
        "id": "ZF8UlvpZsVyr",
        "colab_type": "code",
        "colab": {
          "base_uri": "https://localhost:8080/",
          "height": 286
        },
        "outputId": "a4831cda-2e77-449e-a92c-49bdaadb63fd"
      },
      "source": [
        "#Item 6 - Histograma Raça Cor\n",
        "df_desafio['Raça Cor'].plot.hist()"
      ],
      "execution_count": 19,
      "outputs": [
        {
          "output_type": "execute_result",
          "data": {
            "text/plain": [
              "<matplotlib.axes._subplots.AxesSubplot at 0x7fb482397780>"
            ]
          },
          "metadata": {
            "tags": []
          },
          "execution_count": 19
        },
        {
          "output_type": "display_data",
          "data": {
            "image/png": "[encoded data removed]",
            "text/plain": [
              "<Figure size 432x288 with 1 Axes>"
            ]
          },
          "metadata": {
            "tags": []
          }
        }
      ]
    },
    {
      "cell_type": "code",
      "metadata": {
        "id": "PmYTXM5dvE8A",
        "colab_type": "code",
        "colab": {
          "base_uri": "https://localhost:8080/",
          "height": 300
        },
        "outputId": "c5507acd-165a-498a-b96f-a25e1ab97bdc"
      },
      "source": [
        "# Item 6 - Dipersão Raça Cor e Salario\n",
        "df_desafio.plot.scatter(x='Raça Cor', y='Salário Mensal')"
      ],
      "execution_count": 21,
      "outputs": [
        {
          "output_type": "execute_result",
          "data": {
            "text/plain": [
              "<matplotlib.axes._subplots.AxesSubplot at 0x7fb4828eab00>"
            ]
          },
          "metadata": {
            "tags": []
          },
          "execution_count": 21
        },
        {
          "output_type": "display_data",
          "data": {
            "image/png": "[encoded data removed]",
            "text/plain": [
              "<Figure size 432x288 with 1 Axes>"
            ]
          },
          "metadata": {
            "tags": []
          }
        }
      ]
    },
    {
      "cell_type": "code",
      "metadata": {
        "id": "f6iVX9eFvVj1",
        "colab_type": "code",
        "colab": {
          "base_uri": "https://localhost:8080/",
          "height": 296
        },
        "outputId": "895487a3-34e5-41b7-9c81-6e0dad2af48d"
      },
      "source": [
        "#Item 6 - Calculando a média Salarial Raça Cor\n",
        "Media_RaçaCor = df_desafio.groupby(['Raça Cor'])\n",
        "Media_RaçaCor['Salário Mensal'].mean().plot.bar()\n",
        "\n",
        "#import seaborn as sns\n",
        "#plt.figure(figsize=(20,20))\n",
        "#sns.countplot(Media_RaçaCor['Salário Mensal'].mean())\n",
        "#plt.show()\n",
        "#plt.hist(Media_RaçaCor['Salário Mensal'].mean())"
      ],
      "execution_count": 76,
      "outputs": [
        {
          "output_type": "execute_result",
          "data": {
            "text/plain": [
              "<matplotlib.axes._subplots.AxesSubplot at 0x7f234d68a7b8>"
            ]
          },
          "metadata": {
            "tags": []
          },
          "execution_count": 76
        },
        {
          "output_type": "display_data",
          "data": {
            "image/png": "[encoded data removed]",
            "text/plain": [
              "<Figure size 432x288 with 1 Axes>"
            ]
          },
          "metadata": {
            "tags": []
          }
        }
      ]
    },
    {
      "cell_type": "code",
      "metadata": {
        "id": "xrnFJ7X3ffRt",
        "colab_type": "code",
        "colab": {
          "base_uri": "https://localhost:8080/",
          "height": 324
        },
        "outputId": "06374a97-19c9-4600-f334-3bc9e70970ec"
      },
      "source": [
        "plt.figure(figsize=(10,5))\n",
        "ax = sns.heatmap(df_desafio.corr(), annot=True)"
      ],
      "execution_count": 6,
      "outputs": [
        {
          "output_type": "display_data",
          "data": {
            "image/png": "[encoded data removed]",
            "text/plain": [
              "<Figure size 720x360 with 2 Axes>"
            ]
          },
          "metadata": {
            "tags": []
          }
        }
      ]
    },
    {
      "cell_type": "code",
      "metadata": {
        "id": "c1V4p39MvYuJ",
        "colab_type": "code",
        "colab": {
          "base_uri": "https://localhost:8080/",
          "height": 596
        },
        "outputId": "dff1da72-4ee7-4d5a-df73-1684c0f60868"
      },
      "source": [
        "plt.figure(figsize=(10,8))\n",
        "ax = sns.heatmap(df.corr())"
      ],
      "execution_count": 55,
      "outputs": [
        {
          "output_type": "display_data",
          "data": {
            "image/png": "[encoded data removed]",
            "text/plain": [
              "<Figure size 720x576 with 2 Axes>"
            ]
          },
          "metadata": {
            "tags": []
          }
        }
      ]
    },
    {
      "cell_type": "markdown",
      "metadata": {
        "id": "FGSwmyauw1uU",
        "colab_type": "text"
      },
      "source": [
        "## **TRABALHANDO COM NORMALIZAÇÃO**"
      ]
    },
    {
      "cell_type": "code",
      "metadata": {
        "id": "zzJfmUvAw5nL",
        "colab_type": "code",
        "colab": {
          "base_uri": "https://localhost:8080/",
          "height": 34
        },
        "outputId": "aa087dbc-201e-440f-ee4a-2c4aa9453102"
      },
      "source": [
        "# fazendo o teste de normalidade de shapiro\n",
        "import scipy\n",
        "from scipy import stats\n",
        "stats.shapiro(df_desafio['Salário Mensal'])"
      ],
      "execution_count": 10,
      "outputs": [
        {
          "output_type": "execute_result",
          "data": {
            "text/plain": [
              "(0.2541969418525696, 0.0)"
            ]
          },
          "metadata": {
            "tags": []
          },
          "execution_count": 10
        }
      ]
    },
    {
      "cell_type": "code",
      "metadata": {
        "id": "IQTTb5LtxgKG",
        "colab_type": "code",
        "colab": {
          "base_uri": "https://localhost:8080/",
          "height": 286
        },
        "outputId": "dc6d81d1-90dc-48e3-aad8-1784e2cd9297"
      },
      "source": [
        "df_desafio['log_Salario'] = np.log(df_desafio['Salário Mensal'])\n",
        "df_desafio['log_Salario'].plot.hist(bins=50)"
      ],
      "execution_count": 16,
      "outputs": [
        {
          "output_type": "execute_result",
          "data": {
            "text/plain": [
              "<matplotlib.axes._subplots.AxesSubplot at 0x7f4c086e2550>"
            ]
          },
          "metadata": {
            "tags": []
          },
          "execution_count": 16
        },
        {
          "output_type": "display_data",
          "data": {
            "image/png": "[encoded data removed]",
            "text/plain": [
              "<Figure size 432x288 with 1 Axes>"
            ]
          },
          "metadata": {
            "tags": []
          }
        }
      ]
    },
    {
      "cell_type": "code",
      "metadata": {
        "id": "ScxT5vImyUXm",
        "colab_type": "code",
        "colab": {
          "base_uri": "https://localhost:8080/",
          "height": 34
        },
        "outputId": "003d4246-7594-499d-e36e-82485f81cc06"
      },
      "source": [
        "resultado_normal = stats.shapiro(df_desafio['log_Salario'])\n",
        "resultado_normal"
      ],
      "execution_count": 19,
      "outputs": [
        {
          "output_type": "execute_result",
          "data": {
            "text/plain": [
              "(0.8477897644042969, 0.0)"
            ]
          },
          "metadata": {
            "tags": []
          },
          "execution_count": 19
        }
      ]
    },
    {
      "cell_type": "code",
      "metadata": {
        "id": "nrSw_4r3y0MV",
        "colab_type": "code",
        "colab": {
          "base_uri": "https://localhost:8080/",
          "height": 286
        },
        "outputId": "82a6a70e-9683-496a-9061-701539bea3a1"
      },
      "source": [
        "df_desafio['normal_log_Salario'] = ( df_desafio['log_Salario'] - df_desafio['log_Salario'].mean() ) / df_desafio['log_Salario'].std()\n",
        "df_desafio['normal_log_Salario'].plot.hist(bins=10)"
      ],
      "execution_count": 90,
      "outputs": [
        {
          "output_type": "execute_result",
          "data": {
            "text/plain": [
              "<matplotlib.axes._subplots.AxesSubplot at 0x7f4c0990a518>"
            ]
          },
          "metadata": {
            "tags": []
          },
          "execution_count": 90
        },
        {
          "output_type": "display_data",
          "data": {
            "image/png": "[encoded data removed]",
            "text/plain": [
              "<Figure size 432x288 with 1 Axes>"
            ]
          },
          "metadata": {
            "tags": []
          }
        }
      ]
    },
    {
      "cell_type": "code",
      "metadata": {
        "id": "R3fdpX75zCXJ",
        "colab_type": "code",
        "colab": {
          "base_uri": "https://localhost:8080/",
          "height": 34
        },
        "outputId": "9fb8c9eb-949a-41f2-831c-010705e9bc3a"
      },
      "source": [
        "resultado_normal = stats.shapiro(df_desafio['normal_log_Salario'])\n",
        "resultado_normal"
      ],
      "execution_count": 24,
      "outputs": [
        {
          "output_type": "execute_result",
          "data": {
            "text/plain": [
              "(0.859732449054718, 0.0)"
            ]
          },
          "metadata": {
            "tags": []
          },
          "execution_count": 24
        }
      ]
    },
    {
      "cell_type": "code",
      "metadata": {
        "id": "vvO3OwOlzwxv",
        "colab_type": "code",
        "colab": {
          "base_uri": "https://localhost:8080/",
          "height": 34
        },
        "outputId": "161595a2-7ee6-4867-c776-b8be32ce92fe"
      },
      "source": [
        "# definindo uma variável para os dados de salários transformados e normalizados\n",
        "x = df_desafio['normal_log_Salario']\n",
        "# calculando a média\n",
        "mu = np.mean(x)\n",
        "# calculando o desvio-padrão populacional\n",
        "std = np.std(x)#/len(x)\n",
        "#Imprimindo a média e o desvio-padrão\n",
        "mu,std"
      ],
      "execution_count": 26,
      "outputs": [
        {
          "output_type": "execute_result",
          "data": {
            "text/plain": [
              "(3.690947372631947e-11, 0.9999997760375081)"
            ]
          },
          "metadata": {
            "tags": []
          },
          "execution_count": 26
        }
      ]
    },
    {
      "cell_type": "code",
      "metadata": {
        "id": "0c65Dovc1mmW",
        "colab_type": "code",
        "colab": {
          "base_uri": "https://localhost:8080/",
          "height": 34
        },
        "outputId": "1ab3add5-47bb-4c6c-c41f-1fbb0d620b32"
      },
      "source": [
        "Z_score_inf = scipy.stats.norm.interval(alpha=0.95,loc=mu,scale=std)[0]\n",
        "Z_score_sup = scipy.stats.norm.interval(alpha=0.95,loc=mu,scale=std)[1]\n",
        "Z_score_inf,Z_score_sup"
      ],
      "execution_count": 28,
      "outputs": [
        {
          "output_type": "execute_result",
          "data": {
            "text/plain": [
              "(-1.9599635455447266, 1.9599635456185454)"
            ]
          },
          "metadata": {
            "tags": []
          },
          "execution_count": 28
        }
      ]
    },
    {
      "cell_type": "code",
      "metadata": {
        "id": "nOtW4yuT2B8-",
        "colab_type": "code",
        "colab": {
          "base_uri": "https://localhost:8080/",
          "height": 34
        },
        "outputId": "5478eab3-0b05-4fa0-c66e-238fb4eebcb1"
      },
      "source": [
        "#Que ganham menos que a média\n",
        "df_desafio[df_desafio['normal_log_Salario']<-1.96]['normal_log_Salario'].count()"
      ],
      "execution_count": 40,
      "outputs": [
        {
          "output_type": "execute_result",
          "data": {
            "text/plain": [
              "45450"
            ]
          },
          "metadata": {
            "tags": []
          },
          "execution_count": 40
        }
      ]
    },
    {
      "cell_type": "code",
      "metadata": {
        "id": "vf57Gl3r3r7Z",
        "colab_type": "code",
        "colab": {
          "base_uri": "https://localhost:8080/",
          "height": 34
        },
        "outputId": "73fdd32d-4439-4074-e4d1-3223a3691e8a"
      },
      "source": [
        "#Que ganham mais que a média\n",
        "df_desafio[df_desafio['normal_log_Salario']>1.96]['normal_log_Salario'].count()"
      ],
      "execution_count": 42,
      "outputs": [
        {
          "output_type": "execute_result",
          "data": {
            "text/plain": [
              "97944"
            ]
          },
          "metadata": {
            "tags": []
          },
          "execution_count": 42
        }
      ]
    },
    {
      "cell_type": "code",
      "metadata": {
        "id": "nD3jbFYb35u_",
        "colab_type": "code",
        "colab": {
          "base_uri": "https://localhost:8080/",
          "height": 204
        },
        "outputId": "89b07d15-8bc2-4840-8d84-5bf862478ddf"
      },
      "source": [
        "#Criando Lista Salarios\n",
        "Lista_Salario_Menor = df_desafio[df_desafio['normal_log_Salario']<-1.96]\n",
        "Lista_Salario_Maior = df_desafio[df_desafio['normal_log_Salario']>1.96]\n",
        "Lista_Salario_Medio = df_desafio[((df_desafio['normal_log_Salario']>-1.96) & (df_desafio['normal_log_Salario']<1.96))]\n",
        "\n",
        "Lista_Salario_Menor.head()\n",
        "Lista_Salario_Maior.head()"
      ],
      "execution_count": 44,
      "outputs": [
        {
          "output_type": "execute_result",
          "data": {
            "text/html": [
              "<div>\n",
              "<style scoped>\n",
              "    .dataframe tbody tr th:only-of-type {\n",
              "        vertical-align: middle;\n",
              "    }\n",
              "\n",
              "    .dataframe tbody tr th {\n",
              "        vertical-align: top;\n",
              "    }\n",
              "\n",
              "    .dataframe thead th {\n",
              "        text-align: right;\n",
              "    }\n",
              "</style>\n",
              "<table border=\"1\" class=\"dataframe\">\n",
              "  <thead>\n",
              "    <tr style=\"text-align: right;\">\n",
              "      <th></th>\n",
              "      <th>Idade</th>\n",
              "      <th>Salário Mensal</th>\n",
              "      <th>Grau Instrução</th>\n",
              "      <th>Sexo</th>\n",
              "      <th>Raça Cor</th>\n",
              "      <th>log_Salario</th>\n",
              "      <th>normal_log_Salario</th>\n",
              "    </tr>\n",
              "  </thead>\n",
              "  <tbody>\n",
              "    <tr>\n",
              "      <th>21</th>\n",
              "      <td>35</td>\n",
              "      <td>5000.0</td>\n",
              "      <td>7</td>\n",
              "      <td>1</td>\n",
              "      <td>2</td>\n",
              "      <td>8.517193</td>\n",
              "      <td>2.693368</td>\n",
              "    </tr>\n",
              "    <tr>\n",
              "      <th>55</th>\n",
              "      <td>34</td>\n",
              "      <td>4434.0</td>\n",
              "      <td>6</td>\n",
              "      <td>1</td>\n",
              "      <td>2</td>\n",
              "      <td>8.397057</td>\n",
              "      <td>2.440518</td>\n",
              "    </tr>\n",
              "    <tr>\n",
              "      <th>86</th>\n",
              "      <td>26</td>\n",
              "      <td>5999.0</td>\n",
              "      <td>9</td>\n",
              "      <td>1</td>\n",
              "      <td>8</td>\n",
              "      <td>8.699348</td>\n",
              "      <td>3.076751</td>\n",
              "    </tr>\n",
              "    <tr>\n",
              "      <th>233</th>\n",
              "      <td>23</td>\n",
              "      <td>5837.0</td>\n",
              "      <td>8</td>\n",
              "      <td>2</td>\n",
              "      <td>2</td>\n",
              "      <td>8.671972</td>\n",
              "      <td>3.019133</td>\n",
              "    </tr>\n",
              "    <tr>\n",
              "      <th>279</th>\n",
              "      <td>30</td>\n",
              "      <td>3640.0</td>\n",
              "      <td>9</td>\n",
              "      <td>1</td>\n",
              "      <td>9</td>\n",
              "      <td>8.199739</td>\n",
              "      <td>2.025220</td>\n",
              "    </tr>\n",
              "  </tbody>\n",
              "</table>\n",
              "</div>"
            ],
            "text/plain": [
              "     Idade  Salário Mensal  ...  log_Salario  normal_log_Salario\n",
              "21      35          5000.0  ...     8.517193            2.693368\n",
              "55      34          4434.0  ...     8.397057            2.440518\n",
              "86      26          5999.0  ...     8.699348            3.076751\n",
              "233     23          5837.0  ...     8.671972            3.019133\n",
              "279     30          3640.0  ...     8.199739            2.025220\n",
              "\n",
              "[5 rows x 7 columns]"
            ]
          },
          "metadata": {
            "tags": []
          },
          "execution_count": 44
        }
      ]
    },
    {
      "cell_type": "code",
      "metadata": {
        "id": "3q4VMc3o4elT",
        "colab_type": "code",
        "colab": {
          "base_uri": "https://localhost:8080/",
          "height": 286
        },
        "outputId": "fdac1a23-348d-4e02-e722-96d57fc52c89"
      },
      "source": [
        "#Grafico demonstrando que há mais homens ganhando acima da média que mulheres\n",
        "Lista_Salario_Maior['Sexo'].plot.hist()"
      ],
      "execution_count": 46,
      "outputs": [
        {
          "output_type": "execute_result",
          "data": {
            "text/plain": [
              "<matplotlib.axes._subplots.AxesSubplot at 0x7f4c091f99e8>"
            ]
          },
          "metadata": {
            "tags": []
          },
          "execution_count": 46
        },
        {
          "output_type": "display_data",
          "data": {
            "image/png": "[encoded data removed]",
            "text/plain": [
              "<Figure size 432x288 with 1 Axes>"
            ]
          },
          "metadata": {
            "tags": []
          }
        }
      ]
    },
    {
      "cell_type": "code",
      "metadata": {
        "id": "TNOIy6-S418y",
        "colab_type": "code",
        "colab": {
          "base_uri": "https://localhost:8080/",
          "height": 286
        },
        "outputId": "10471eec-28d9-4f81-9012-f620fcceb869"
      },
      "source": [
        "#Grafico demonstrando que mais mulheres ganham abaixo da media do que homens\n",
        "Lista_Salario_Menor['Sexo'].plot.hist()"
      ],
      "execution_count": 47,
      "outputs": [
        {
          "output_type": "execute_result",
          "data": {
            "text/plain": [
              "<matplotlib.axes._subplots.AxesSubplot at 0x7f4c08ddd320>"
            ]
          },
          "metadata": {
            "tags": []
          },
          "execution_count": 47
        },
        {
          "output_type": "display_data",
          "data": {
            "image/png": "[encoded data removed]",
            "text/plain": [
              "<Figure size 432x288 with 1 Axes>"
            ]
          },
          "metadata": {
            "tags": []
          }
        }
      ]
    },
    {
      "cell_type": "code",
      "metadata": {
        "id": "WZLfLKki5ok6",
        "colab_type": "code",
        "colab": {
          "base_uri": "https://localhost:8080/",
          "height": 286
        },
        "outputId": "3cb7a7fe-f3b9-43a3-90b7-83c6e88f1530"
      },
      "source": [
        "#Grafico demonstrando que homens ganham mais que mulher na média\n",
        "Lista_Salario_Medio['Sexo'].plot.hist()"
      ],
      "execution_count": 64,
      "outputs": [
        {
          "output_type": "execute_result",
          "data": {
            "text/plain": [
              "<matplotlib.axes._subplots.AxesSubplot at 0x7f4c085789b0>"
            ]
          },
          "metadata": {
            "tags": []
          },
          "execution_count": 64
        },
        {
          "output_type": "display_data",
          "data": {
            "image/png": "[encoded data removed]",
            "text/plain": [
              "<Figure size 432x288 with 1 Axes>"
            ]
          },
          "metadata": {
            "tags": []
          }
        }
      ]
    },
    {
      "cell_type": "code",
      "metadata": {
        "id": "8w-c-_aQHb7Q",
        "colab_type": "code",
        "colab": {
          "base_uri": "https://localhost:8080/",
          "height": 484
        },
        "outputId": "49ac7c32-c3a8-4913-ddca-39f14b18c183"
      },
      "source": [
        "from matplotlib import colors\n",
        "n_bins = 20\n",
        "fig, axs = plt.subplots(1, 2, tight_layout=True)\n",
        "\n",
        "#df_desafio['log_Salario'].plot.hist(bins=50)\n",
        "# N is the count in each bin, bins is the lower-limit of the bin\n",
        "N, bins, patches = axs[0].hist(df_desafio['log_Salario'], n_bins)\n",
        "\n",
        "# We'll color code by height, but you could use any scalar\n",
        "fracs = N / N.max()\n",
        "\n",
        "# we need to normalize the data to 0..1 for the full range of the colormap\n",
        "norm = colors.Normalize(fracs.min(), fracs.max())\n",
        "\n",
        "# Now, we'll loop through our objects and set the color of each accordingly\n",
        "for thisfrac, thispatch in zip(fracs, patches):\n",
        "    color = plt.cm.viridis(norm(thisfrac))\n",
        "    thispatch.set_facecolor(color)\n",
        "\n",
        "# We can also normalize our inputs by the total number of counts\n",
        "axs[1].hist(df_desafio['normal_log_Salario'], bins=n_bins, density=True)"
      ],
      "execution_count": 88,
      "outputs": [
        {
          "output_type": "execute_result",
          "data": {
            "text/plain": [
              "(array([2.24133439e-03, 2.70330974e-02, 3.42944725e-02, 1.53082454e-01,\n",
              "        6.74050817e-01, 3.73860060e-01, 1.35773457e-01, 5.84289145e-02,\n",
              "        2.94663503e-02, 1.66167186e-02, 1.17152561e-02, 6.10438046e-03,\n",
              "        3.79107661e-03, 1.93083761e-03, 9.23265268e-04, 4.36614681e-04,\n",
              "        1.98087352e-04, 1.05555198e-04, 6.10026792e-05, 9.87009641e-05]),\n",
              " array([-3.3212765 , -2.66777248, -2.01426845, -1.36076442, -0.7072604 ,\n",
              "        -0.05375637,  0.59974766,  1.25325168,  1.90675571,  2.56025974,\n",
              "         3.21376376,  3.86726779,  4.52077182,  5.17427585,  5.82777987,\n",
              "         6.4812839 ,  7.13478793,  7.78829195,  8.44179598,  9.09530001,\n",
              "         9.74880403]),\n",
              " <a list of 20 Patch objects>)"
            ]
          },
          "metadata": {
            "tags": []
          },
          "execution_count": 88
        },
        {
          "output_type": "display_data",
          "data": {
            "image/png": "[encoded data removed]",
            "text/plain": [
              "<Figure size 432x288 with 2 Axes>"
            ]
          },
          "metadata": {
            "tags": []
          }
        }
      ]
    },
    {
      "cell_type": "code",
      "metadata": {
        "id": "aN4jM51NKtCh",
        "colab_type": "code",
        "colab": {
          "base_uri": "https://localhost:8080/",
          "height": 283
        },
        "outputId": "74039c08-bcc0-4750-8ca1-5a45ea2f3693"
      },
      "source": [
        "import numpy as np\n",
        "import matplotlib.mlab as mlab\n",
        "import matplotlib.pyplot as plt\n",
        "\n",
        "\n",
        "# definindo uma variável para os dados de salários transformados e normalizados\n",
        "x = df_desafio['normal_log_Salario']\n",
        "# calculando a média\n",
        "mu = np.mean(x)\n",
        "# calculando o desvio-padrão populacional\n",
        "std = np.std(x)#/len(x)\n",
        "#Imprimindo a média e o desvio-padrão\n",
        "mu,std\n",
        "\n",
        "\n",
        "# example data\n",
        "#mu = 100 # mean of distribution\n",
        "sigma = std # standard deviation of distribution\n",
        "#x = mu + sigma * np.random.randn(10000)\n",
        "\n",
        "num_bins = 20\n",
        "# the histogram of the data\n",
        "n, bins, patches = plt.hist(x, num_bins, normed=1, facecolor='blue', alpha=0.5)\n",
        "\n",
        "# add a 'best fit' line\n",
        "y = mlab.normpdf(bins, mu, sigma)\n",
        "plt.plot(bins, y, 'r--')\n",
        "plt.xlabel('Salário Mensal Normalizado')\n",
        "\n",
        "\n",
        "\n",
        "# Tweak spacing to prevent clipping of ylabel\n",
        "plt.subplots_adjust(left=0.15)\n",
        "plt.show()"
      ],
      "execution_count": 112,
      "outputs": [
        {
          "output_type": "display_data",
          "data": {
            "image/png": "[encoded data removed]",
            "text/plain": [
              "<Figure size 432x288 with 1 Axes>"
            ]
          },
          "metadata": {
            "tags": []
          }
        }
      ]
    }
  ]
}